{
 "cells": [
  {
   "cell_type": "markdown",
   "id": "406482a6",
   "metadata": {},
   "source": [
    "<div style=\"text-align: center; padding-top: 30px; padding-bottom: 10px;\">\n",
    "\n",
    "<h1 style=\"font-size: 2.8em; font-weight: 600; margin-bottom: 0.2em;\">\n",
    "Global Neural Network Model\n",
    "</h1>\n",
    "\n",
    "<p style=\"font-size: 1.2em; color: gray; font-style: italic; margin-top: 0;\">\n",
    "This notebook visualises the main results from the paper.\n",
    "</p>\n",
    "\n",
    "</div>\n"
   ]
  },
  {
   "cell_type": "markdown",
   "id": "6e103efc",
   "metadata": {},
   "source": [
    "##  1. Loading Packages and Data\n",
    "\n",
    "In this section, we import required libraries, define the model parameters and load the dataset."
   ]
  },
  {
   "cell_type": "code",
   "execution_count": 1,
   "id": "f25113ca",
   "metadata": {},
   "outputs": [
    {
     "name": "stderr",
     "output_type": "stream",
     "text": [
      "2025-09-03 08:25:54.987986: I tensorflow/core/util/port.cc:153] oneDNN custom operations are on. You may see slightly different numerical results due to floating-point round-off errors from different computation orders. To turn them off, set the environment variable `TF_ENABLE_ONEDNN_OPTS=0`.\n",
      "2025-09-03 08:25:55.085276: I external/local_xla/xla/tsl/cuda/cudart_stub.cc:32] Could not find cuda drivers on your machine, GPU will not be used.\n",
      "2025-09-03 08:25:55.170181: I external/local_xla/xla/tsl/cuda/cudart_stub.cc:32] Could not find cuda drivers on your machine, GPU will not be used.\n",
      "2025-09-03 08:25:55.266844: E external/local_xla/xla/stream_executor/cuda/cuda_fft.cc:477] Unable to register cuFFT factory: Attempting to register factory for plugin cuFFT when one has already been registered\n",
      "WARNING: All log messages before absl::InitializeLog() is called are written to STDERR\n",
      "E0000 00:00:1756887955.347512   16068 cuda_dnn.cc:8310] Unable to register cuDNN factory: Attempting to register factory for plugin cuDNN when one has already been registered\n",
      "E0000 00:00:1756887955.359247   16068 cuda_blas.cc:1418] Unable to register cuBLAS factory: Attempting to register factory for plugin cuBLAS when one has already been registered\n",
      "2025-09-03 08:25:55.468365: I tensorflow/core/platform/cpu_feature_guard.cc:210] This TensorFlow binary is optimized to use available CPU instructions in performance-critical operations.\n",
      "To enable the following instructions: AVX2 AVX_VNNI FMA, in other operations, rebuild TensorFlow with the appropriate compiler flags.\n"
     ]
    }
   ],
   "source": [
    "import numpy as np\n",
    "import pandas as pd\n",
    "import matplotlib.pyplot as plt\n",
    "import plotly.graph_objects as go\n",
    "import os\n",
    "from models.global_model.model_functions.helper_functions.prepare_data import Prepare\n",
    "from utils import create_pred_input\n",
    "from scipy.interpolate import griddata\n",
    "from models import MultivariateModelGlobal as Model       \n",
    "\n",
    "\n",
    "os.environ['PYTHONHASHSEED'] = str(0)\n",
    "\n",
    "#model parameters                    \n",
    "lr = 0.001                      # Learning rate\n",
    "min_delta = 1e-6               # Tolerance for optimization\n",
    "patience = 100                   # Patience for early stopping\n",
    "verbose = 2                     # Verbosity mode for optimization\n",
    "n_countries=196\n",
    "time_periods=63                 #\n",
    "\n",
    "#prepare the data\n",
    "data=pd.read_excel('../data/MainData.xlsx')\n",
    "growth, precip, temp = Prepare(data, n_countries, time_periods)\n",
    "x_train = {0:temp, 1:precip}\n",
    "\n",
    "#summary statics for standardisation\n",
    "mean_temp=np.nanmean(data[\"TempPopWeight\"])\n",
    "std_temp=np.nanstd(data[\"TempPopWeight\"])\n",
    "mean_precip=np.nanmean(data[\"PrecipPopWeight\"])\n",
    "std_precip=np.nanstd(data[\"PrecipPopWeight\"])\n",
    "\n",
    "pred_input, T, P= create_pred_input(mc=False, mean_T=mean_temp, std_T=std_temp, mean_P=mean_precip, std_P=std_precip)\n",
    "\n",
    "\n"
   ]
  },
  {
   "cell_type": "code",
   "execution_count": null,
   "id": "6e939df5",
   "metadata": {},
   "outputs": [
    {
     "name": "stdout",
     "output_type": "stream",
     "text": [
      "Top models [(4,), (2, 2), (8,), (4, 2), (4, 4)], BIC: [np.float64(-57499.217679141926), np.float64(-57496.46984861002), np.float64(-57482.26543484042), np.float64(-57475.700707413875), np.float64(-57473.425462418665)]\n"
     ]
    }
   ],
   "source": [
    "#load results from simulations and retrieve best n models\n",
    "n_models = 5  \n",
    "date_of_run = '2025-08-26'\n",
    "Model_selection='IC'\n",
    "\n",
    "results = dict(np.load(f'../results/metrics/{Model_selection}/{date_of_run}/results.npy', \n",
    "                       allow_pickle=True).item())\n",
    "\n",
    "results={k: v for k,v in results.items() if v is not None}\n",
    "top_models = sorted(results, key=lambda node: results[node][1])[0:n_models]\n",
    "\n",
    "#print the corresponding BIC for all  the top models\n",
    "\n",
    "print(f'Top models {top_models}, BIC: {[results[model][1] for model in top_models]}')\n",
    "\n"
   ]
  },
  {
   "cell_type": "markdown",
   "id": "f41c0781",
   "metadata": {},
   "source": [
    "# 2. Data analysis"
   ]
  },
  {
   "cell_type": "markdown",
   "id": "8b2c4eb1",
   "metadata": {},
   "source": [
    "## 2.1 Calculating the best ten surfaces, the average of those and the benchmark surface \n"
   ]
  },
  {
   "cell_type": "code",
   "execution_count": null,
   "id": "0f7500e8",
   "metadata": {},
   "outputs": [
    {
     "name": "stdout",
     "output_type": "stream",
     "text": [
      "(2, 2)\n"
     ]
    },
    {
     "ename": "ValueError",
     "evalue": "A total of 2 objects could not be loaded. Example error message for object <Dense name=dense_40, built=True>:\n\nThe shape of the target variable and the shape of the target value in `variable.assign(value)` must match. variable.shape=(195, 1), Received: value.shape=(62, 1). Target variable: <Variable path=dense_40/kernel, shape=(195, 1), dtype=float32, value=[[0.]\n [0.]\n [0.]\n [0.]\n [0.]\n [0.]\n [0.]\n [0.]\n [0.]\n [0.]\n [0.]\n [0.]\n [0.]\n [0.]\n [0.]\n [0.]\n [0.]\n [0.]\n [0.]\n [0.]\n [0.]\n [0.]\n [0.]\n [0.]\n [0.]\n [0.]\n [0.]\n [0.]\n [0.]\n [0.]\n [0.]\n [0.]\n [0.]\n [0.]\n [0.]\n [0.]\n [0.]\n [0.]\n [0.]\n [0.]\n [0.]\n [0.]\n [0.]\n [0.]\n [0.]\n [0.]\n [0.]\n [0.]\n [0.]\n [0.]\n [0.]\n [0.]\n [0.]\n [0.]\n [0.]\n [0.]\n [0.]\n [0.]\n [0.]\n [0.]\n [0.]\n [0.]\n [0.]\n [0.]\n [0.]\n [0.]\n [0.]\n [0.]\n [0.]\n [0.]\n [0.]\n [0.]\n [0.]\n [0.]\n [0.]\n [0.]\n [0.]\n [0.]\n [0.]\n [0.]\n [0.]\n [0.]\n [0.]\n [0.]\n [0.]\n [0.]\n [0.]\n [0.]\n [0.]\n [0.]\n [0.]\n [0.]\n [0.]\n [0.]\n [0.]\n [0.]\n [0.]\n [0.]\n [0.]\n [0.]\n [0.]\n [0.]\n [0.]\n [0.]\n [0.]\n [0.]\n [0.]\n [0.]\n [0.]\n [0.]\n [0.]\n [0.]\n [0.]\n [0.]\n [0.]\n [0.]\n [0.]\n [0.]\n [0.]\n [0.]\n [0.]\n [0.]\n [0.]\n [0.]\n [0.]\n [0.]\n [0.]\n [0.]\n [0.]\n [0.]\n [0.]\n [0.]\n [0.]\n [0.]\n [0.]\n [0.]\n [0.]\n [0.]\n [0.]\n [0.]\n [0.]\n [0.]\n [0.]\n [0.]\n [0.]\n [0.]\n [0.]\n [0.]\n [0.]\n [0.]\n [0.]\n [0.]\n [0.]\n [0.]\n [0.]\n [0.]\n [0.]\n [0.]\n [0.]\n [0.]\n [0.]\n [0.]\n [0.]\n [0.]\n [0.]\n [0.]\n [0.]\n [0.]\n [0.]\n [0.]\n [0.]\n [0.]\n [0.]\n [0.]\n [0.]\n [0.]\n [0.]\n [0.]\n [0.]\n [0.]\n [0.]\n [0.]\n [0.]\n [0.]\n [0.]\n [0.]\n [0.]\n [0.]\n [0.]\n [0.]\n [0.]\n [0.]\n [0.]\n [0.]\n [0.]]>\n\nList of objects that could not be loaded:\n[<Dense name=dense_40, built=True>, <Dense name=dense_44, built=True>]",
     "output_type": "error",
     "traceback": [
      "\u001b[0;31m---------------------------------------------------------------------------\u001b[0m",
      "\u001b[0;31mValueError\u001b[0m                                Traceback (most recent call last)",
      "Cell \u001b[0;32mIn[20], line 13\u001b[0m\n\u001b[1;32m     11\u001b[0m model\u001b[38;5;241m=\u001b[39mfactory\u001b[38;5;241m.\u001b[39mget_model()\n\u001b[1;32m     12\u001b[0m weight_file \u001b[38;5;241m=\u001b[39m \u001b[38;5;124mf\u001b[39m\u001b[38;5;124m'\u001b[39m\u001b[38;5;124m../results/Model Parameters/\u001b[39m\u001b[38;5;132;01m{\u001b[39;00mModel_selection\u001b[38;5;132;01m}\u001b[39;00m\u001b[38;5;124m/\u001b[39m\u001b[38;5;132;01m{\u001b[39;00mdate_of_run\u001b[38;5;132;01m}\u001b[39;00m\u001b[38;5;124m/\u001b[39m\u001b[38;5;132;01m{\u001b[39;00mnode\u001b[38;5;132;01m}\u001b[39;00m\u001b[38;5;124m.weights.h5\u001b[39m\u001b[38;5;124m'\u001b[39m\n\u001b[0;32m---> 13\u001b[0m \u001b[43mmodel\u001b[49m\u001b[38;5;241;43m.\u001b[39;49m\u001b[43mload_params\u001b[49m\u001b[43m(\u001b[49m\u001b[43mweight_file\u001b[49m\u001b[43m)\u001b[49m\n\u001b[1;32m     15\u001b[0m \u001b[38;5;66;03m# fit & predict\u001b[39;00m\n\u001b[1;32m     16\u001b[0m model\u001b[38;5;241m.\u001b[39mfit(lr\u001b[38;5;241m=\u001b[39mlr, min_delta\u001b[38;5;241m=\u001b[39mmin_delta, patience\u001b[38;5;241m=\u001b[39mpatience, verbose\u001b[38;5;241m=\u001b[39mverbose)\n",
      "File \u001b[0;32m/workspaces/Paper_1/src/models/global_model/model_functions/multivariate_model.py:100\u001b[0m, in \u001b[0;36mMultivariateModel.load_params\u001b[0;34m(self, filepath)\u001b[0m\n\u001b[1;32m     92\u001b[0m \u001b[38;5;28;01mdef\u001b[39;00m\u001b[38;5;250m \u001b[39m\u001b[38;5;21mload_params\u001b[39m(\u001b[38;5;28mself\u001b[39m, filepath):\n\u001b[1;32m     93\u001b[0m \u001b[38;5;250m    \u001b[39m\u001b[38;5;124;03m\"\"\"\u001b[39;00m\n\u001b[1;32m     94\u001b[0m \u001b[38;5;124;03m    Loading model parameters.\u001b[39;00m\n\u001b[1;32m     95\u001b[0m \n\u001b[1;32m     96\u001b[0m \u001b[38;5;124;03m     ARGUMENTS\u001b[39;00m\n\u001b[1;32m     97\u001b[0m \u001b[38;5;124;03m        * filepath: string containing path/name of saved file.\u001b[39;00m\n\u001b[1;32m     98\u001b[0m \u001b[38;5;124;03m    \"\"\"\u001b[39;00m\n\u001b[0;32m--> 100\u001b[0m     \u001b[38;5;28;43mself\u001b[39;49m\u001b[38;5;241;43m.\u001b[39;49m\u001b[43mmodel\u001b[49m\u001b[38;5;241;43m.\u001b[39;49m\u001b[43mload_weights\u001b[49m\u001b[43m(\u001b[49m\u001b[43mfilepath\u001b[49m\u001b[43m)\u001b[49m\n\u001b[1;32m    101\u001b[0m     \u001b[38;5;28mself\u001b[39m\u001b[38;5;241m.\u001b[39mparams \u001b[38;5;241m=\u001b[39m \u001b[38;5;28mself\u001b[39m\u001b[38;5;241m.\u001b[39mmodel\u001b[38;5;241m.\u001b[39mget_weights()\n\u001b[1;32m    103\u001b[0m     \u001b[38;5;66;03m# loading fixed effects estimates\u001b[39;00m\n",
      "File \u001b[0;32m/workspaces/Paper_1/.venv/lib/python3.12/site-packages/keras/src/utils/traceback_utils.py:122\u001b[0m, in \u001b[0;36mfilter_traceback.<locals>.error_handler\u001b[0;34m(*args, **kwargs)\u001b[0m\n\u001b[1;32m    119\u001b[0m     filtered_tb \u001b[38;5;241m=\u001b[39m _process_traceback_frames(e\u001b[38;5;241m.\u001b[39m__traceback__)\n\u001b[1;32m    120\u001b[0m     \u001b[38;5;66;03m# To get the full stack trace, call:\u001b[39;00m\n\u001b[1;32m    121\u001b[0m     \u001b[38;5;66;03m# `keras.config.disable_traceback_filtering()`\u001b[39;00m\n\u001b[0;32m--> 122\u001b[0m     \u001b[38;5;28;01mraise\u001b[39;00m e\u001b[38;5;241m.\u001b[39mwith_traceback(filtered_tb) \u001b[38;5;28;01mfrom\u001b[39;00m\u001b[38;5;250m \u001b[39m\u001b[38;5;28;01mNone\u001b[39;00m\n\u001b[1;32m    123\u001b[0m \u001b[38;5;28;01mfinally\u001b[39;00m:\n\u001b[1;32m    124\u001b[0m     \u001b[38;5;28;01mdel\u001b[39;00m filtered_tb\n",
      "File \u001b[0;32m/workspaces/Paper_1/.venv/lib/python3.12/site-packages/keras/src/saving/saving_lib.py:631\u001b[0m, in \u001b[0;36m_raise_loading_failure\u001b[0;34m(error_msgs, warn_only)\u001b[0m\n\u001b[1;32m    629\u001b[0m     warnings\u001b[38;5;241m.\u001b[39mwarn(msg)\n\u001b[1;32m    630\u001b[0m \u001b[38;5;28;01melse\u001b[39;00m:\n\u001b[0;32m--> 631\u001b[0m     \u001b[38;5;28;01mraise\u001b[39;00m \u001b[38;5;167;01mValueError\u001b[39;00m(msg)\n",
      "\u001b[0;31mValueError\u001b[0m: A total of 2 objects could not be loaded. Example error message for object <Dense name=dense_40, built=True>:\n\nThe shape of the target variable and the shape of the target value in `variable.assign(value)` must match. variable.shape=(195, 1), Received: value.shape=(62, 1). Target variable: <Variable path=dense_40/kernel, shape=(195, 1), dtype=float32, value=[[0.]\n [0.]\n [0.]\n [0.]\n [0.]\n [0.]\n [0.]\n [0.]\n [0.]\n [0.]\n [0.]\n [0.]\n [0.]\n [0.]\n [0.]\n [0.]\n [0.]\n [0.]\n [0.]\n [0.]\n [0.]\n [0.]\n [0.]\n [0.]\n [0.]\n [0.]\n [0.]\n [0.]\n [0.]\n [0.]\n [0.]\n [0.]\n [0.]\n [0.]\n [0.]\n [0.]\n [0.]\n [0.]\n [0.]\n [0.]\n [0.]\n [0.]\n [0.]\n [0.]\n [0.]\n [0.]\n [0.]\n [0.]\n [0.]\n [0.]\n [0.]\n [0.]\n [0.]\n [0.]\n [0.]\n [0.]\n [0.]\n [0.]\n [0.]\n [0.]\n [0.]\n [0.]\n [0.]\n [0.]\n [0.]\n [0.]\n [0.]\n [0.]\n [0.]\n [0.]\n [0.]\n [0.]\n [0.]\n [0.]\n [0.]\n [0.]\n [0.]\n [0.]\n [0.]\n [0.]\n [0.]\n [0.]\n [0.]\n [0.]\n [0.]\n [0.]\n [0.]\n [0.]\n [0.]\n [0.]\n [0.]\n [0.]\n [0.]\n [0.]\n [0.]\n [0.]\n [0.]\n [0.]\n [0.]\n [0.]\n [0.]\n [0.]\n [0.]\n [0.]\n [0.]\n [0.]\n [0.]\n [0.]\n [0.]\n [0.]\n [0.]\n [0.]\n [0.]\n [0.]\n [0.]\n [0.]\n [0.]\n [0.]\n [0.]\n [0.]\n [0.]\n [0.]\n [0.]\n [0.]\n [0.]\n [0.]\n [0.]\n [0.]\n [0.]\n [0.]\n [0.]\n [0.]\n [0.]\n [0.]\n [0.]\n [0.]\n [0.]\n [0.]\n [0.]\n [0.]\n [0.]\n [0.]\n [0.]\n [0.]\n [0.]\n [0.]\n [0.]\n [0.]\n [0.]\n [0.]\n [0.]\n [0.]\n [0.]\n [0.]\n [0.]\n [0.]\n [0.]\n [0.]\n [0.]\n [0.]\n [0.]\n [0.]\n [0.]\n [0.]\n [0.]\n [0.]\n [0.]\n [0.]\n [0.]\n [0.]\n [0.]\n [0.]\n [0.]\n [0.]\n [0.]\n [0.]\n [0.]\n [0.]\n [0.]\n [0.]\n [0.]\n [0.]\n [0.]\n [0.]\n [0.]\n [0.]\n [0.]\n [0.]\n [0.]\n [0.]\n [0.]\n [0.]\n [0.]\n [0.]\n [0.]]>\n\nList of objects that could not be loaded:\n[<Dense name=dense_40, built=True>, <Dense name=dense_44, built=True>]"
     ]
    }
   ],
   "source": [
    "Model_selection='BIC'\n",
    "date_of_run = '2025-08-29'\n",
    "# --- Build surfaces for each of the top-n models ---------------------\n",
    "model_surfaces = []\n",
    "for idx, node in enumerate(top_models[0:n_models], 1):\n",
    "    \n",
    "    print(node)\n",
    "    # instantiate and load your model\n",
    "    factory = Model(node, x_train, growth, dropout=0.2, penalty=0, country_trends=False, dynamic_model=True)\n",
    "    factory.Depth=len(node)\n",
    "    model=factory.get_model()\n",
    "    weight_file = f'../results/Model Parameters/{Model_selection}/{date_of_run}/{node}.weights.h5'\n",
    "    model.load_params(weight_file)\n",
    "\n",
    "    # fit & predict\n",
    "    model.fit(lr=lr, min_delta=min_delta, patience=patience, verbose=verbose)\n",
    "   \n",
    "    pred_flat = model.model_visual.predict(pred_input).reshape(-1,)\n",
    "    Growth = pred_flat.reshape(T.shape) \n",
    "\n",
    "    opacity = 0.3\n",
    "    surf = go.Surface(\n",
    "        x=T, y=P/1000, z=Growth, #ensure that the surfaces are meassured in meters instead of milimeters\n",
    "        colorscale='Cividis',\n",
    "        opacity=0.85,\n",
    "        showscale=False,\n",
    "        name=f'Model {node}'\n",
    "    )\n",
    "    model_surfaces.append(surf)\n",
    " \n",
    "\n",
    "#calculate the average surface\n",
    "z=np.mean([surf.z for surf in model_surfaces], axis=0).reshape(T.shape)\n",
    "\n",
    "mean_surface = go.Surface(\n",
    "        x=T, y=P, z=z,\n",
    "        colorscale='Cividis',\n",
    "        opacity=0.85,\n",
    "        showscale=False,\n",
    "        name='mean_surface'\n",
    "    )\n",
    "\n",
    "\n",
    "# --- Load benchmark data and create grid  ---------------------\n",
    "\n",
    "benchmark_data = pd.read_csv('../data/Benchmark/3d_results.csv')\n",
    "bench_temp   = benchmark_data['temp'].values\n",
    "bench_precip = benchmark_data['precip_value'].values * 1000\n",
    "bench_growth = benchmark_data['avg_prediction'].values\n",
    "\n",
    "bench_Z = griddata(\n",
    "    points=(bench_temp, bench_precip),\n",
    "    values=bench_growth,\n",
    "    xi=(T, P),\n",
    "    method='linear'\n",
    ")\n",
    "\n",
    "# --- Create the benchmark surface --------------------------------------\n",
    "bench_surface = go.Surface(\n",
    "    x=T, y=P, z=bench_Z,\n",
    "    colorscale='Reds',\n",
    "    showscale=False,\n",
    "    name='Benchmark'\n",
    ")\n",
    "\n",
    "\n",
    "\n"
   ]
  },
  {
   "cell_type": "markdown",
   "id": "71bb8d12",
   "metadata": {},
   "source": [
    "### 2.1.2 Data visualisation\n",
    "In this section we visualise the top-n models in a temperature-precipitation grid \n"
   ]
  },
  {
   "cell_type": "code",
   "execution_count": null,
   "id": "af4c7d75",
   "metadata": {},
   "outputs": [],
   "source": [
    "\n",
    "plot_data = model_surfaces\n",
    "# # plot_data = [mean_surface] \n",
    "# plot_data=[mean_surface, bench_surface]\n",
    "\n",
    "\n",
    "fig1 = go.Figure(data=plot_data)\n",
    "fig1.update_layout(\n",
    "    scene=dict(\n",
    "        xaxis_title='Temperature (°C)',\n",
    "        yaxis_title='Precipitation (m)',\n",
    "        zaxis_title='Δ ln(Growth)',\n",
    "        camera=dict(eye=dict(x=2.11, y=0.12, z=0.38)),\n",
    "        zaxis=dict(range=[-0.15, 0.15])\n",
    "    ),\n",
    "    legend=dict(\n",
    "        bgcolor='rgba(255,255,255,0.7)',\n",
    "        bordercolor='black',\n",
    "        borderwidth=1\n",
    "    )\n",
    ")\n",
    "\n",
    "fig1.show()\n",
    "\n",
    "\n",
    "\n",
    "\n",
    "\n",
    "\n"
   ]
  },
  {
   "cell_type": "code",
   "execution_count": null,
   "id": "a678572c",
   "metadata": {},
   "outputs": [],
   "source": [
    "\n",
    "fig.write_image(\"../results/images/Paper/3d_plot_model_vs_Leirvik.pdf\", width=1600, height=1200, scale=2)\n",
    "\n"
   ]
  },
  {
   "cell_type": "code",
   "execution_count": null,
   "id": "4ac4685c",
   "metadata": {},
   "outputs": [],
   "source": [
    "# --- optionally: Save the figure as HTML ---------------------------------------------\n",
    "fig.write_html(f'../results/images/10_best_average_vs_Leirvik.html')"
   ]
  },
  {
   "cell_type": "markdown",
   "id": "315e05c8",
   "metadata": {},
   "source": [
    "## In this section I compare the in-sample fit of our Neural Network and a quadratic benchmark"
   ]
  },
  {
   "cell_type": "code",
   "execution_count": 5,
   "id": "0a90997c",
   "metadata": {},
   "outputs": [
    {
     "name": "stderr",
     "output_type": "stream",
     "text": [
      "2025-08-26 13:25:53.803867: E external/local_xla/xla/stream_executor/cuda/cuda_driver.cc:152] failed call to cuInit: INTERNAL: CUDA error: Failed call to cuInit: UNKNOWN ERROR (303)\n"
     ]
    },
    {
     "name": "stdout",
     "output_type": "stream",
     "text": [
      "Epoch 1/1000000\n"
     ]
    },
    {
     "name": "stderr",
     "output_type": "stream",
     "text": [
      "2025-08-26 13:26:01.079931: E tensorflow/core/util/util.cc:131] oneDNN supports DT_BOOL only on platforms with AVX-512. Falling back to the default Eigen-based implementation if present.\n"
     ]
    },
    {
     "name": "stdout",
     "output_type": "stream",
     "text": [
      "1/1 - 5s - 5s/step - loss: 0.0036\n",
      "Epoch 2/1000000\n",
      "1/1 - 0s - 133ms/step - loss: 0.0036\n",
      "Epoch 3/1000000\n",
      "1/1 - 0s - 91ms/step - loss: 0.0036\n",
      "Epoch 4/1000000\n",
      "1/1 - 0s - 126ms/step - loss: 0.0036\n",
      "Epoch 5/1000000\n",
      "1/1 - 0s - 118ms/step - loss: 0.0036\n",
      "Epoch 6/1000000\n",
      "1/1 - 0s - 99ms/step - loss: 0.0036\n",
      "Epoch 7/1000000\n",
      "1/1 - 0s - 95ms/step - loss: 0.0036\n",
      "Epoch 8/1000000\n",
      "1/1 - 0s - 91ms/step - loss: 0.0036\n",
      "Epoch 9/1000000\n",
      "1/1 - 0s - 103ms/step - loss: 0.0036\n",
      "Epoch 10/1000000\n",
      "1/1 - 0s - 93ms/step - loss: 0.0036\n",
      "Epoch 11/1000000\n",
      "1/1 - 0s - 120ms/step - loss: 0.0036\n",
      "Epoch 12/1000000\n",
      "1/1 - 0s - 141ms/step - loss: 0.0036\n",
      "Epoch 13/1000000\n",
      "1/1 - 0s - 140ms/step - loss: 0.0036\n",
      "Epoch 14/1000000\n",
      "1/1 - 0s - 112ms/step - loss: 0.0036\n",
      "Epoch 15/1000000\n",
      "1/1 - 0s - 127ms/step - loss: 0.0036\n",
      "Epoch 16/1000000\n",
      "1/1 - 0s - 131ms/step - loss: 0.0036\n",
      "Epoch 17/1000000\n",
      "1/1 - 0s - 105ms/step - loss: 0.0036\n",
      "Epoch 18/1000000\n",
      "1/1 - 0s - 98ms/step - loss: 0.0036\n",
      "Epoch 19/1000000\n",
      "1/1 - 0s - 112ms/step - loss: 0.0036\n",
      "Epoch 20/1000000\n",
      "1/1 - 0s - 91ms/step - loss: 0.0036\n",
      "Epoch 21/1000000\n",
      "1/1 - 0s - 68ms/step - loss: 0.0036\n",
      "Epoch 22/1000000\n",
      "1/1 - 0s - 81ms/step - loss: 0.0036\n",
      "Epoch 23/1000000\n",
      "1/1 - 0s - 75ms/step - loss: 0.0036\n",
      "Epoch 24/1000000\n",
      "1/1 - 0s - 100ms/step - loss: 0.0036\n",
      "Epoch 25/1000000\n",
      "1/1 - 0s - 145ms/step - loss: 0.0036\n",
      "Epoch 26/1000000\n",
      "1/1 - 0s - 103ms/step - loss: 0.0036\n",
      "Epoch 27/1000000\n",
      "1/1 - 0s - 92ms/step - loss: 0.0036\n",
      "Epoch 28/1000000\n",
      "1/1 - 0s - 91ms/step - loss: 0.0036\n",
      "Epoch 29/1000000\n",
      "1/1 - 0s - 87ms/step - loss: 0.0036\n",
      "Epoch 30/1000000\n",
      "1/1 - 0s - 121ms/step - loss: 0.0036\n",
      "Epoch 31/1000000\n",
      "1/1 - 0s - 92ms/step - loss: 0.0036\n",
      "Epoch 32/1000000\n",
      "1/1 - 0s - 82ms/step - loss: 0.0036\n",
      "Epoch 33/1000000\n",
      "1/1 - 0s - 88ms/step - loss: 0.0036\n",
      "Epoch 34/1000000\n",
      "1/1 - 0s - 137ms/step - loss: 0.0036\n",
      "Epoch 35/1000000\n",
      "1/1 - 0s - 85ms/step - loss: 0.0036\n",
      "Epoch 36/1000000\n",
      "1/1 - 0s - 83ms/step - loss: 0.0036\n",
      "Epoch 37/1000000\n",
      "1/1 - 0s - 76ms/step - loss: 0.0036\n",
      "Epoch 38/1000000\n",
      "1/1 - 0s - 88ms/step - loss: 0.0036\n",
      "Epoch 39/1000000\n",
      "1/1 - 0s - 86ms/step - loss: 0.0036\n",
      "Epoch 40/1000000\n",
      "1/1 - 0s - 110ms/step - loss: 0.0036\n",
      "Epoch 41/1000000\n",
      "1/1 - 0s - 106ms/step - loss: 0.0036\n",
      "Epoch 42/1000000\n",
      "1/1 - 0s - 88ms/step - loss: 0.0036\n",
      "Epoch 43/1000000\n",
      "1/1 - 0s - 111ms/step - loss: 0.0036\n",
      "Epoch 44/1000000\n",
      "1/1 - 0s - 111ms/step - loss: 0.0036\n",
      "Epoch 45/1000000\n",
      "1/1 - 0s - 114ms/step - loss: 0.0036\n",
      "Epoch 46/1000000\n",
      "1/1 - 0s - 145ms/step - loss: 0.0036\n",
      "Epoch 47/1000000\n",
      "1/1 - 0s - 135ms/step - loss: 0.0036\n",
      "Epoch 48/1000000\n",
      "1/1 - 0s - 112ms/step - loss: 0.0036\n",
      "Epoch 49/1000000\n",
      "1/1 - 0s - 106ms/step - loss: 0.0036\n",
      "Epoch 50/1000000\n",
      "1/1 - 0s - 97ms/step - loss: 0.0036\n",
      "Epoch 51/1000000\n",
      "1/1 - 0s - 89ms/step - loss: 0.0036\n",
      "Epoch 52/1000000\n",
      "1/1 - 0s - 142ms/step - loss: 0.0036\n",
      "Epoch 53/1000000\n",
      "1/1 - 0s - 95ms/step - loss: 0.0036\n",
      "Epoch 54/1000000\n",
      "1/1 - 0s - 92ms/step - loss: 0.0036\n",
      "Epoch 55/1000000\n",
      "1/1 - 0s - 79ms/step - loss: 0.0036\n",
      "Epoch 56/1000000\n",
      "1/1 - 0s - 89ms/step - loss: 0.0036\n",
      "Epoch 57/1000000\n",
      "1/1 - 0s - 82ms/step - loss: 0.0036\n",
      "Epoch 58/1000000\n",
      "1/1 - 0s - 78ms/step - loss: 0.0036\n",
      "Epoch 59/1000000\n",
      "1/1 - 0s - 78ms/step - loss: 0.0036\n",
      "Epoch 60/1000000\n",
      "1/1 - 0s - 88ms/step - loss: 0.0036\n",
      "Epoch 61/1000000\n",
      "1/1 - 0s - 116ms/step - loss: 0.0036\n",
      "Epoch 62/1000000\n",
      "1/1 - 0s - 99ms/step - loss: 0.0036\n",
      "Epoch 63/1000000\n",
      "1/1 - 0s - 101ms/step - loss: 0.0036\n",
      "Epoch 64/1000000\n",
      "1/1 - 0s - 96ms/step - loss: 0.0036\n",
      "Epoch 65/1000000\n",
      "1/1 - 0s - 138ms/step - loss: 0.0036\n",
      "Epoch 66/1000000\n",
      "1/1 - 0s - 129ms/step - loss: 0.0036\n",
      "Epoch 67/1000000\n",
      "1/1 - 0s - 106ms/step - loss: 0.0036\n",
      "Epoch 68/1000000\n",
      "1/1 - 0s - 115ms/step - loss: 0.0036\n",
      "Epoch 69/1000000\n",
      "1/1 - 0s - 128ms/step - loss: 0.0036\n",
      "Epoch 70/1000000\n",
      "1/1 - 0s - 139ms/step - loss: 0.0036\n",
      "Epoch 71/1000000\n",
      "1/1 - 0s - 107ms/step - loss: 0.0036\n",
      "Epoch 72/1000000\n",
      "1/1 - 0s - 101ms/step - loss: 0.0036\n",
      "Epoch 73/1000000\n",
      "1/1 - 0s - 115ms/step - loss: 0.0036\n",
      "Epoch 74/1000000\n",
      "1/1 - 0s - 102ms/step - loss: 0.0036\n",
      "Epoch 75/1000000\n",
      "1/1 - 0s - 101ms/step - loss: 0.0036\n",
      "Epoch 76/1000000\n",
      "1/1 - 0s - 102ms/step - loss: 0.0036\n",
      "Epoch 77/1000000\n",
      "1/1 - 0s - 101ms/step - loss: 0.0036\n",
      "Epoch 78/1000000\n",
      "1/1 - 0s - 146ms/step - loss: 0.0036\n",
      "Epoch 79/1000000\n",
      "1/1 - 0s - 102ms/step - loss: 0.0036\n",
      "Epoch 80/1000000\n",
      "1/1 - 0s - 78ms/step - loss: 0.0036\n",
      "Epoch 81/1000000\n",
      "1/1 - 0s - 87ms/step - loss: 0.0036\n",
      "Epoch 82/1000000\n",
      "1/1 - 0s - 122ms/step - loss: 0.0036\n",
      "Epoch 83/1000000\n",
      "1/1 - 0s - 84ms/step - loss: 0.0036\n",
      "Epoch 84/1000000\n",
      "1/1 - 0s - 84ms/step - loss: 0.0036\n",
      "Epoch 85/1000000\n",
      "1/1 - 0s - 91ms/step - loss: 0.0036\n",
      "Epoch 86/1000000\n",
      "1/1 - 0s - 85ms/step - loss: 0.0036\n",
      "Epoch 87/1000000\n",
      "1/1 - 0s - 85ms/step - loss: 0.0036\n",
      "Epoch 88/1000000\n",
      "1/1 - 0s - 91ms/step - loss: 0.0036\n",
      "Epoch 89/1000000\n",
      "1/1 - 0s - 84ms/step - loss: 0.0036\n",
      "Epoch 90/1000000\n",
      "1/1 - 0s - 98ms/step - loss: 0.0036\n",
      "Epoch 91/1000000\n",
      "1/1 - 0s - 98ms/step - loss: 0.0036\n",
      "Epoch 92/1000000\n",
      "1/1 - 0s - 101ms/step - loss: 0.0036\n",
      "Epoch 93/1000000\n",
      "1/1 - 0s - 85ms/step - loss: 0.0036\n",
      "Epoch 94/1000000\n",
      "1/1 - 0s - 73ms/step - loss: 0.0036\n",
      "Epoch 95/1000000\n",
      "1/1 - 0s - 82ms/step - loss: 0.0036\n",
      "Epoch 96/1000000\n",
      "1/1 - 0s - 83ms/step - loss: 0.0036\n",
      "Epoch 97/1000000\n",
      "1/1 - 0s - 83ms/step - loss: 0.0036\n",
      "Epoch 98/1000000\n",
      "1/1 - 0s - 87ms/step - loss: 0.0036\n",
      "Epoch 99/1000000\n",
      "1/1 - 0s - 72ms/step - loss: 0.0036\n",
      "Epoch 100/1000000\n",
      "1/1 - 0s - 86ms/step - loss: 0.0036\n",
      "Epoch 101/1000000\n",
      "1/1 - 0s - 79ms/step - loss: 0.0036\n",
      "Epoch 102/1000000\n",
      "1/1 - 0s - 91ms/step - loss: 0.0036\n",
      "Epoch 103/1000000\n",
      "1/1 - 0s - 81ms/step - loss: 0.0036\n",
      "Epoch 104/1000000\n",
      "1/1 - 0s - 92ms/step - loss: 0.0036\n",
      "Epoch 105/1000000\n",
      "1/1 - 0s - 143ms/step - loss: 0.0036\n",
      "Epoch 106/1000000\n",
      "1/1 - 0s - 92ms/step - loss: 0.0036\n",
      "Epoch 107/1000000\n",
      "1/1 - 0s - 98ms/step - loss: 0.0036\n",
      "Epoch 108/1000000\n",
      "1/1 - 0s - 84ms/step - loss: 0.0036\n",
      "Epoch 109/1000000\n",
      "1/1 - 0s - 81ms/step - loss: 0.0036\n",
      "Epoch 110/1000000\n",
      "1/1 - 0s - 91ms/step - loss: 0.0036\n",
      "Epoch 111/1000000\n",
      "1/1 - 0s - 77ms/step - loss: 0.0036\n",
      "Epoch 112/1000000\n",
      "1/1 - 0s - 82ms/step - loss: 0.0036\n",
      "Epoch 113/1000000\n",
      "1/1 - 0s - 102ms/step - loss: 0.0036\n",
      "Epoch 114/1000000\n",
      "1/1 - 0s - 85ms/step - loss: 0.0036\n",
      "Epoch 115/1000000\n",
      "1/1 - 0s - 102ms/step - loss: 0.0036\n",
      "Epoch 116/1000000\n",
      "1/1 - 0s - 90ms/step - loss: 0.0036\n",
      "Epoch 117/1000000\n",
      "1/1 - 0s - 85ms/step - loss: 0.0036\n",
      "Epoch 118/1000000\n",
      "1/1 - 0s - 111ms/step - loss: 0.0036\n",
      "Epoch 119/1000000\n",
      "1/1 - 0s - 76ms/step - loss: 0.0036\n",
      "Epoch 120/1000000\n",
      "1/1 - 0s - 172ms/step - loss: 0.0036\n",
      "Epoch 121/1000000\n",
      "1/1 - 0s - 67ms/step - loss: 0.0036\n",
      "Epoch 122/1000000\n",
      "1/1 - 0s - 76ms/step - loss: 0.0036\n",
      "Epoch 123/1000000\n",
      "1/1 - 0s - 75ms/step - loss: 0.0036\n",
      "Epoch 124/1000000\n",
      "1/1 - 0s - 100ms/step - loss: 0.0036\n",
      "Epoch 125/1000000\n",
      "1/1 - 0s - 77ms/step - loss: 0.0036\n",
      "Epoch 126/1000000\n",
      "1/1 - 0s - 90ms/step - loss: 0.0036\n",
      "Epoch 127/1000000\n",
      "1/1 - 0s - 81ms/step - loss: 0.0036\n",
      "Epoch 128/1000000\n",
      "1/1 - 0s - 79ms/step - loss: 0.0036\n",
      "Epoch 129/1000000\n",
      "1/1 - 0s - 100ms/step - loss: 0.0036\n",
      "Epoch 130/1000000\n",
      "1/1 - 0s - 100ms/step - loss: 0.0036\n",
      "Epoch 131/1000000\n",
      "1/1 - 0s - 126ms/step - loss: 0.0036\n",
      "Epoch 132/1000000\n",
      "1/1 - 0s - 100ms/step - loss: 0.0036\n",
      "Epoch 133/1000000\n",
      "1/1 - 0s - 93ms/step - loss: 0.0036\n",
      "Epoch 134/1000000\n",
      "1/1 - 0s - 98ms/step - loss: 0.0036\n",
      "Epoch 135/1000000\n",
      "1/1 - 0s - 83ms/step - loss: 0.0036\n",
      "Epoch 136/1000000\n",
      "1/1 - 0s - 90ms/step - loss: 0.0036\n",
      "Epoch 137/1000000\n",
      "1/1 - 0s - 87ms/step - loss: 0.0036\n",
      "Epoch 138/1000000\n",
      "1/1 - 0s - 80ms/step - loss: 0.0036\n",
      "Epoch 139/1000000\n",
      "1/1 - 0s - 75ms/step - loss: 0.0036\n",
      "Epoch 140/1000000\n",
      "1/1 - 0s - 78ms/step - loss: 0.0036\n",
      "Epoch 141/1000000\n",
      "1/1 - 0s - 81ms/step - loss: 0.0036\n",
      "Epoch 142/1000000\n",
      "1/1 - 0s - 86ms/step - loss: 0.0036\n",
      "Epoch 143/1000000\n",
      "1/1 - 0s - 80ms/step - loss: 0.0036\n",
      "Epoch 144/1000000\n",
      "1/1 - 0s - 83ms/step - loss: 0.0036\n",
      "Epoch 145/1000000\n",
      "1/1 - 0s - 78ms/step - loss: 0.0036\n",
      "Epoch 146/1000000\n",
      "1/1 - 0s - 85ms/step - loss: 0.0036\n",
      "Epoch 147/1000000\n",
      "1/1 - 0s - 72ms/step - loss: 0.0036\n",
      "Epoch 148/1000000\n",
      "1/1 - 0s - 102ms/step - loss: 0.0036\n",
      "Epoch 149/1000000\n",
      "1/1 - 0s - 83ms/step - loss: 0.0036\n",
      "Epoch 150/1000000\n",
      "1/1 - 0s - 88ms/step - loss: 0.0036\n",
      "Epoch 151/1000000\n",
      "1/1 - 0s - 166ms/step - loss: 0.0036\n",
      "Epoch 152/1000000\n",
      "1/1 - 0s - 74ms/step - loss: 0.0036\n",
      "Epoch 153/1000000\n",
      "1/1 - 0s - 86ms/step - loss: 0.0036\n",
      "Epoch 154/1000000\n",
      "1/1 - 0s - 75ms/step - loss: 0.0036\n",
      "Epoch 155/1000000\n",
      "1/1 - 0s - 83ms/step - loss: 0.0036\n",
      "Epoch 156/1000000\n",
      "1/1 - 0s - 111ms/step - loss: 0.0036\n",
      "Epoch 157/1000000\n",
      "1/1 - 0s - 105ms/step - loss: 0.0036\n",
      "Epoch 158/1000000\n",
      "1/1 - 0s - 102ms/step - loss: 0.0036\n",
      "Epoch 159/1000000\n",
      "1/1 - 0s - 93ms/step - loss: 0.0036\n",
      "Epoch 160/1000000\n",
      "1/1 - 0s - 92ms/step - loss: 0.0036\n",
      "Epoch 161/1000000\n",
      "1/1 - 0s - 90ms/step - loss: 0.0036\n",
      "Epoch 162/1000000\n",
      "1/1 - 0s - 100ms/step - loss: 0.0036\n",
      "Epoch 163/1000000\n",
      "1/1 - 0s - 101ms/step - loss: 0.0036\n",
      "Epoch 164/1000000\n",
      "1/1 - 0s - 111ms/step - loss: 0.0036\n",
      "Epoch 165/1000000\n",
      "1/1 - 0s - 97ms/step - loss: 0.0036\n",
      "Epoch 166/1000000\n",
      "1/1 - 0s - 101ms/step - loss: 0.0036\n",
      "Epoch 167/1000000\n",
      "1/1 - 0s - 93ms/step - loss: 0.0036\n",
      "Epoch 168/1000000\n",
      "1/1 - 0s - 120ms/step - loss: 0.0036\n",
      "Epoch 169/1000000\n",
      "1/1 - 0s - 106ms/step - loss: 0.0036\n",
      "Epoch 170/1000000\n",
      "1/1 - 0s - 84ms/step - loss: 0.0036\n",
      "Epoch 171/1000000\n",
      "1/1 - 0s - 100ms/step - loss: 0.0036\n",
      "Epoch 172/1000000\n",
      "1/1 - 0s - 113ms/step - loss: 0.0036\n",
      "Epoch 173/1000000\n",
      "1/1 - 0s - 117ms/step - loss: 0.0036\n",
      "Epoch 174/1000000\n",
      "1/1 - 0s - 86ms/step - loss: 0.0036\n",
      "Epoch 175/1000000\n",
      "1/1 - 0s - 90ms/step - loss: 0.0036\n",
      "Epoch 176/1000000\n",
      "1/1 - 0s - 77ms/step - loss: 0.0036\n",
      "Epoch 177/1000000\n",
      "1/1 - 0s - 109ms/step - loss: 0.0036\n",
      "Epoch 178/1000000\n",
      "1/1 - 0s - 90ms/step - loss: 0.0036\n",
      "Epoch 179/1000000\n",
      "1/1 - 0s - 76ms/step - loss: 0.0036\n",
      "Epoch 180/1000000\n",
      "1/1 - 0s - 80ms/step - loss: 0.0036\n",
      "Epoch 181/1000000\n",
      "1/1 - 0s - 81ms/step - loss: 0.0036\n",
      "Epoch 182/1000000\n",
      "1/1 - 0s - 87ms/step - loss: 0.0036\n",
      "Epoch 183/1000000\n",
      "1/1 - 0s - 91ms/step - loss: 0.0036\n",
      "Epoch 184/1000000\n",
      "1/1 - 0s - 76ms/step - loss: 0.0036\n",
      "Epoch 185/1000000\n",
      "1/1 - 0s - 79ms/step - loss: 0.0036\n",
      "Epoch 186/1000000\n",
      "1/1 - 0s - 87ms/step - loss: 0.0036\n",
      "Epoch 187/1000000\n",
      "1/1 - 0s - 85ms/step - loss: 0.0036\n",
      "Epoch 188/1000000\n",
      "1/1 - 0s - 76ms/step - loss: 0.0036\n",
      "Epoch 189/1000000\n",
      "1/1 - 0s - 89ms/step - loss: 0.0036\n",
      "Epoch 190/1000000\n",
      "1/1 - 0s - 78ms/step - loss: 0.0036\n",
      "Epoch 191/1000000\n",
      "1/1 - 0s - 79ms/step - loss: 0.0036\n",
      "Epoch 192/1000000\n",
      "1/1 - 0s - 78ms/step - loss: 0.0036\n",
      "Epoch 193/1000000\n",
      "1/1 - 0s - 83ms/step - loss: 0.0036\n",
      "Epoch 194/1000000\n",
      "1/1 - 0s - 87ms/step - loss: 0.0036\n",
      "Epoch 195/1000000\n",
      "1/1 - 0s - 78ms/step - loss: 0.0036\n",
      "Epoch 196/1000000\n",
      "1/1 - 0s - 76ms/step - loss: 0.0036\n",
      "Epoch 197/1000000\n",
      "1/1 - 0s - 72ms/step - loss: 0.0036\n",
      "Epoch 198/1000000\n",
      "1/1 - 0s - 127ms/step - loss: 0.0036\n",
      "Epoch 199/1000000\n",
      "1/1 - 0s - 104ms/step - loss: 0.0036\n",
      "Epoch 200/1000000\n",
      "1/1 - 0s - 105ms/step - loss: 0.0036\n",
      "Epoch 201/1000000\n",
      "1/1 - 0s - 88ms/step - loss: 0.0036\n",
      "Epoch 202/1000000\n",
      "1/1 - 0s - 105ms/step - loss: 0.0036\n",
      "Epoch 203/1000000\n",
      "1/1 - 0s - 104ms/step - loss: 0.0036\n",
      "Epoch 204/1000000\n",
      "1/1 - 0s - 95ms/step - loss: 0.0036\n",
      "Epoch 205/1000000\n",
      "1/1 - 0s - 99ms/step - loss: 0.0036\n",
      "Epoch 206/1000000\n",
      "1/1 - 0s - 91ms/step - loss: 0.0036\n",
      "Epoch 207/1000000\n",
      "1/1 - 0s - 109ms/step - loss: 0.0036\n",
      "Epoch 208/1000000\n",
      "1/1 - 0s - 116ms/step - loss: 0.0036\n",
      "Epoch 209/1000000\n",
      "1/1 - 0s - 91ms/step - loss: 0.0036\n",
      "Epoch 210/1000000\n",
      "1/1 - 0s - 102ms/step - loss: 0.0036\n",
      "Epoch 211/1000000\n",
      "1/1 - 0s - 84ms/step - loss: 0.0036\n",
      "Epoch 212/1000000\n",
      "1/1 - 0s - 92ms/step - loss: 0.0036\n",
      "Epoch 213/1000000\n",
      "1/1 - 0s - 93ms/step - loss: 0.0036\n",
      "Epoch 214/1000000\n",
      "1/1 - 0s - 87ms/step - loss: 0.0036\n",
      "Epoch 215/1000000\n",
      "1/1 - 0s - 84ms/step - loss: 0.0036\n",
      "Epoch 216/1000000\n",
      "1/1 - 0s - 94ms/step - loss: 0.0036\n",
      "Epoch 217/1000000\n",
      "1/1 - 0s - 98ms/step - loss: 0.0036\n",
      "Epoch 218/1000000\n",
      "1/1 - 0s - 103ms/step - loss: 0.0036\n",
      "Epoch 219/1000000\n",
      "1/1 - 0s - 113ms/step - loss: 0.0036\n",
      "Epoch 220/1000000\n",
      "1/1 - 0s - 108ms/step - loss: 0.0036\n",
      "Epoch 221/1000000\n",
      "1/1 - 0s - 113ms/step - loss: 0.0036\n",
      "Epoch 222/1000000\n",
      "1/1 - 0s - 179ms/step - loss: 0.0036\n",
      "Epoch 223/1000000\n",
      "1/1 - 0s - 108ms/step - loss: 0.0036\n",
      "Epoch 224/1000000\n",
      "1/1 - 0s - 107ms/step - loss: 0.0036\n",
      "Epoch 225/1000000\n",
      "1/1 - 0s - 97ms/step - loss: 0.0036\n",
      "Epoch 226/1000000\n",
      "1/1 - 0s - 78ms/step - loss: 0.0036\n",
      "Epoch 227/1000000\n",
      "1/1 - 0s - 99ms/step - loss: 0.0036\n",
      "Epoch 228/1000000\n",
      "1/1 - 0s - 96ms/step - loss: 0.0036\n",
      "Epoch 229/1000000\n",
      "1/1 - 0s - 95ms/step - loss: 0.0036\n",
      "Epoch 230/1000000\n",
      "1/1 - 0s - 86ms/step - loss: 0.0036\n",
      "Epoch 231/1000000\n",
      "1/1 - 0s - 101ms/step - loss: 0.0036\n",
      "Epoch 232/1000000\n",
      "1/1 - 0s - 84ms/step - loss: 0.0036\n",
      "Epoch 233/1000000\n",
      "1/1 - 0s - 92ms/step - loss: 0.0036\n",
      "Epoch 234/1000000\n",
      "1/1 - 0s - 90ms/step - loss: 0.0036\n",
      "Epoch 235/1000000\n",
      "1/1 - 0s - 96ms/step - loss: 0.0036\n",
      "Epoch 236/1000000\n",
      "1/1 - 0s - 89ms/step - loss: 0.0036\n",
      "Epoch 237/1000000\n",
      "1/1 - 0s - 87ms/step - loss: 0.0036\n",
      "Epoch 238/1000000\n",
      "1/1 - 0s - 181ms/step - loss: 0.0036\n",
      "Epoch 239/1000000\n",
      "1/1 - 0s - 89ms/step - loss: 0.0036\n",
      "Epoch 240/1000000\n",
      "1/1 - 0s - 83ms/step - loss: 0.0036\n",
      "Epoch 241/1000000\n",
      "1/1 - 0s - 93ms/step - loss: 0.0036\n",
      "Epoch 242/1000000\n",
      "1/1 - 0s - 86ms/step - loss: 0.0036\n",
      "Epoch 243/1000000\n",
      "1/1 - 0s - 105ms/step - loss: 0.0036\n",
      "Epoch 244/1000000\n",
      "1/1 - 0s - 83ms/step - loss: 0.0036\n",
      "Epoch 245/1000000\n",
      "1/1 - 0s - 100ms/step - loss: 0.0036\n",
      "Epoch 246/1000000\n",
      "1/1 - 0s - 124ms/step - loss: 0.0036\n",
      "Epoch 247/1000000\n",
      "1/1 - 0s - 126ms/step - loss: 0.0036\n",
      "Epoch 248/1000000\n",
      "1/1 - 0s - 118ms/step - loss: 0.0036\n",
      "Epoch 249/1000000\n",
      "1/1 - 0s - 83ms/step - loss: 0.0036\n",
      "Epoch 250/1000000\n",
      "1/1 - 0s - 88ms/step - loss: 0.0036\n",
      "Epoch 251/1000000\n",
      "1/1 - 0s - 99ms/step - loss: 0.0036\n",
      "Epoch 252/1000000\n",
      "1/1 - 0s - 97ms/step - loss: 0.0036\n",
      "Epoch 253/1000000\n",
      "1/1 - 0s - 94ms/step - loss: 0.0036\n",
      "Epoch 254/1000000\n",
      "1/1 - 0s - 85ms/step - loss: 0.0036\n",
      "Epoch 255/1000000\n",
      "1/1 - 0s - 80ms/step - loss: 0.0036\n",
      "Epoch 256/1000000\n",
      "1/1 - 0s - 189ms/step - loss: 0.0036\n",
      "Epoch 257/1000000\n",
      "1/1 - 0s - 88ms/step - loss: 0.0036\n",
      "Epoch 258/1000000\n",
      "1/1 - 0s - 110ms/step - loss: 0.0036\n",
      "Epoch 259/1000000\n",
      "1/1 - 0s - 71ms/step - loss: 0.0036\n",
      "Epoch 260/1000000\n",
      "1/1 - 0s - 84ms/step - loss: 0.0036\n",
      "Epoch 261/1000000\n",
      "1/1 - 0s - 99ms/step - loss: 0.0036\n",
      "Epoch 262/1000000\n",
      "1/1 - 0s - 81ms/step - loss: 0.0036\n",
      "Epoch 263/1000000\n",
      "1/1 - 0s - 80ms/step - loss: 0.0036\n",
      "Epoch 264/1000000\n",
      "1/1 - 0s - 85ms/step - loss: 0.0036\n",
      "Epoch 265/1000000\n",
      "1/1 - 0s - 77ms/step - loss: 0.0036\n",
      "Epoch 266/1000000\n",
      "1/1 - 0s - 78ms/step - loss: 0.0036\n",
      "Epoch 267/1000000\n",
      "1/1 - 0s - 78ms/step - loss: 0.0036\n",
      "Epoch 268/1000000\n",
      "1/1 - 0s - 103ms/step - loss: 0.0036\n",
      "Epoch 269/1000000\n",
      "1/1 - 0s - 118ms/step - loss: 0.0036\n",
      "Epoch 270/1000000\n",
      "1/1 - 0s - 123ms/step - loss: 0.0036\n",
      "Epoch 271/1000000\n",
      "1/1 - 0s - 112ms/step - loss: 0.0036\n",
      "Epoch 272/1000000\n",
      "1/1 - 0s - 89ms/step - loss: 0.0036\n",
      "Epoch 273/1000000\n",
      "1/1 - 0s - 94ms/step - loss: 0.0036\n",
      "Epoch 274/1000000\n",
      "1/1 - 0s - 106ms/step - loss: 0.0036\n",
      "Epoch 275/1000000\n",
      "1/1 - 0s - 96ms/step - loss: 0.0036\n",
      "Epoch 276/1000000\n",
      "1/1 - 0s - 92ms/step - loss: 0.0036\n",
      "Epoch 277/1000000\n",
      "1/1 - 0s - 102ms/step - loss: 0.0036\n",
      "Epoch 278/1000000\n",
      "1/1 - 0s - 95ms/step - loss: 0.0036\n",
      "Epoch 279/1000000\n",
      "1/1 - 0s - 109ms/step - loss: 0.0036\n",
      "Epoch 280/1000000\n",
      "1/1 - 0s - 91ms/step - loss: 0.0036\n",
      "Epoch 281/1000000\n",
      "1/1 - 0s - 100ms/step - loss: 0.0036\n",
      "Epoch 282/1000000\n",
      "1/1 - 0s - 87ms/step - loss: 0.0036\n",
      "Epoch 283/1000000\n",
      "1/1 - 0s - 102ms/step - loss: 0.0036\n",
      "Epoch 284/1000000\n",
      "1/1 - 0s - 86ms/step - loss: 0.0036\n",
      "Epoch 285/1000000\n",
      "1/1 - 0s - 103ms/step - loss: 0.0036\n",
      "Epoch 286/1000000\n",
      "1/1 - 0s - 81ms/step - loss: 0.0036\n",
      "Epoch 287/1000000\n",
      "1/1 - 0s - 110ms/step - loss: 0.0036\n",
      "Epoch 288/1000000\n",
      "1/1 - 0s - 85ms/step - loss: 0.0036\n",
      "Epoch 289/1000000\n",
      "1/1 - 0s - 100ms/step - loss: 0.0036\n",
      "Epoch 290/1000000\n",
      "1/1 - 0s - 91ms/step - loss: 0.0036\n",
      "Epoch 291/1000000\n",
      "1/1 - 0s - 97ms/step - loss: 0.0036\n",
      "Epoch 292/1000000\n",
      "1/1 - 0s - 105ms/step - loss: 0.0036\n",
      "Epoch 293/1000000\n",
      "1/1 - 0s - 103ms/step - loss: 0.0036\n",
      "Epoch 294/1000000\n",
      "1/1 - 0s - 96ms/step - loss: 0.0036\n",
      "Epoch 295/1000000\n",
      "1/1 - 0s - 103ms/step - loss: 0.0036\n",
      "Epoch 296/1000000\n",
      "1/1 - 0s - 125ms/step - loss: 0.0036\n",
      "Epoch 297/1000000\n",
      "1/1 - 0s - 94ms/step - loss: 0.0036\n",
      "Epoch 298/1000000\n",
      "1/1 - 0s - 104ms/step - loss: 0.0036\n",
      "Epoch 299/1000000\n",
      "1/1 - 0s - 95ms/step - loss: 0.0036\n",
      "Epoch 300/1000000\n",
      "1/1 - 0s - 109ms/step - loss: 0.0036\n",
      "Epoch 301/1000000\n",
      "1/1 - 0s - 93ms/step - loss: 0.0036\n",
      "Epoch 302/1000000\n",
      "1/1 - 0s - 162ms/step - loss: 0.0036\n",
      "Epoch 303/1000000\n",
      "1/1 - 0s - 79ms/step - loss: 0.0036\n",
      "Epoch 304/1000000\n",
      "1/1 - 0s - 73ms/step - loss: 0.0036\n",
      "Epoch 305/1000000\n",
      "1/1 - 0s - 83ms/step - loss: 0.0036\n",
      "Epoch 306/1000000\n",
      "1/1 - 0s - 90ms/step - loss: 0.0036\n",
      "Epoch 307/1000000\n",
      "1/1 - 0s - 91ms/step - loss: 0.0036\n",
      "Epoch 308/1000000\n",
      "1/1 - 0s - 92ms/step - loss: 0.0036\n",
      "Epoch 309/1000000\n",
      "1/1 - 0s - 97ms/step - loss: 0.0036\n",
      "Epoch 310/1000000\n",
      "1/1 - 0s - 85ms/step - loss: 0.0036\n",
      "Epoch 311/1000000\n",
      "1/1 - 0s - 92ms/step - loss: 0.0036\n",
      "Epoch 312/1000000\n",
      "1/1 - 0s - 93ms/step - loss: 0.0036\n",
      "Epoch 313/1000000\n",
      "1/1 - 0s - 104ms/step - loss: 0.0036\n",
      "Epoch 314/1000000\n",
      "1/1 - 0s - 87ms/step - loss: 0.0036\n",
      "Epoch 315/1000000\n",
      "1/1 - 0s - 90ms/step - loss: 0.0036\n",
      "Epoch 316/1000000\n",
      "1/1 - 0s - 84ms/step - loss: 0.0036\n",
      "Epoch 317/1000000\n",
      "1/1 - 0s - 101ms/step - loss: 0.0036\n",
      "Epoch 318/1000000\n",
      "1/1 - 0s - 100ms/step - loss: 0.0036\n",
      "Epoch 318: early stopping\n",
      "Restoring model weights from the end of the best epoch: 218.\n",
      "\u001b[1m1/1\u001b[0m \u001b[32m━━━━━━━━━━━━━━━━━━━━\u001b[0m\u001b[37m\u001b[0m \u001b[1m0s\u001b[0m 106ms/step\n"
     ]
    },
    {
     "name": "stderr",
     "output_type": "stream",
     "text": [
      "/workspaces/Paper_1/.venv/lib/python3.12/site-packages/keras/src/models/functional.py:237: UserWarning: The structure of `inputs` doesn't match the expected structure.\n",
      "Expected: ['X_in']\n",
      "Received: inputs=Tensor(shape=(1, 1, 8100, 2))\n",
      "  warnings.warn(msg)\n"
     ]
    },
    {
     "data": {
      "application/vnd.plotly.v1+json": {
       "config": {
        "plotlyServerURL": "https://plot.ly"
       },
       "data": [
        {
         "colorscale": [
          [
           0,
           "#00224e"
          ],
          [
           0.1111111111111111,
           "#123570"
          ],
          [
           0.2222222222222222,
           "#3b496c"
          ],
          [
           0.3333333333333333,
           "#575d6d"
          ],
          [
           0.4444444444444444,
           "#707173"
          ],
          [
           0.5555555555555556,
           "#8a8678"
          ],
          [
           0.6666666666666666,
           "#a59c74"
          ],
          [
           0.7777777777777778,
           "#c3b369"
          ],
          [
           0.8888888888888888,
           "#e1cc55"
          ],
          [
           1,
           "#fee838"
          ]
         ],
         "name": "Model (2,)",
         "opacity": 0.85,
         "showscale": false,
         "type": "surface",
         "x": {
          "bdata": "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",
          "dtype": "f8",
          "shape": "90, 90"
         },
         "y": {
          "bdata": "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",
          "dtype": "f8",
          "shape": "90, 90"
         },
         "z": {
          "bdata": "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",
          "dtype": "f4",
          "shape": "90, 90"
         }
        }
       ],
       "layout": {
        "legend": {
         "bgcolor": "rgba(255,255,255,0.7)",
         "bordercolor": "black",
         "borderwidth": 1
        },
        "scene": {
         "camera": {
          "eye": {
           "x": 2.11,
           "y": 0.12,
           "z": 0.38
          }
         },
         "xaxis": {
          "title": {
           "text": "Temperature (°C)"
          }
         },
         "yaxis": {
          "title": {
           "text": "Precipitation (m)"
          }
         },
         "zaxis": {
          "range": [
           -0.15,
           0.15
          ],
          "title": {
           "text": "Δ ln(Growth)"
          }
         }
        },
        "template": {
         "data": {
          "bar": [
           {
            "error_x": {
             "color": "#2a3f5f"
            },
            "error_y": {
             "color": "#2a3f5f"
            },
            "marker": {
             "line": {
              "color": "#E5ECF6",
              "width": 0.5
             },
             "pattern": {
              "fillmode": "overlay",
              "size": 10,
              "solidity": 0.2
             }
            },
            "type": "bar"
           }
          ],
          "barpolar": [
           {
            "marker": {
             "line": {
              "color": "#E5ECF6",
              "width": 0.5
             },
             "pattern": {
              "fillmode": "overlay",
              "size": 10,
              "solidity": 0.2
             }
            },
            "type": "barpolar"
           }
          ],
          "carpet": [
           {
            "aaxis": {
             "endlinecolor": "#2a3f5f",
             "gridcolor": "white",
             "linecolor": "white",
             "minorgridcolor": "white",
             "startlinecolor": "#2a3f5f"
            },
            "baxis": {
             "endlinecolor": "#2a3f5f",
             "gridcolor": "white",
             "linecolor": "white",
             "minorgridcolor": "white",
             "startlinecolor": "#2a3f5f"
            },
            "type": "carpet"
           }
          ],
          "choropleth": [
           {
            "colorbar": {
             "outlinewidth": 0,
             "ticks": ""
            },
            "type": "choropleth"
           }
          ],
          "contour": [
           {
            "colorbar": {
             "outlinewidth": 0,
             "ticks": ""
            },
            "colorscale": [
             [
              0,
              "#0d0887"
             ],
             [
              0.1111111111111111,
              "#46039f"
             ],
             [
              0.2222222222222222,
              "#7201a8"
             ],
             [
              0.3333333333333333,
              "#9c179e"
             ],
             [
              0.4444444444444444,
              "#bd3786"
             ],
             [
              0.5555555555555556,
              "#d8576b"
             ],
             [
              0.6666666666666666,
              "#ed7953"
             ],
             [
              0.7777777777777778,
              "#fb9f3a"
             ],
             [
              0.8888888888888888,
              "#fdca26"
             ],
             [
              1,
              "#f0f921"
             ]
            ],
            "type": "contour"
           }
          ],
          "contourcarpet": [
           {
            "colorbar": {
             "outlinewidth": 0,
             "ticks": ""
            },
            "type": "contourcarpet"
           }
          ],
          "heatmap": [
           {
            "colorbar": {
             "outlinewidth": 0,
             "ticks": ""
            },
            "colorscale": [
             [
              0,
              "#0d0887"
             ],
             [
              0.1111111111111111,
              "#46039f"
             ],
             [
              0.2222222222222222,
              "#7201a8"
             ],
             [
              0.3333333333333333,
              "#9c179e"
             ],
             [
              0.4444444444444444,
              "#bd3786"
             ],
             [
              0.5555555555555556,
              "#d8576b"
             ],
             [
              0.6666666666666666,
              "#ed7953"
             ],
             [
              0.7777777777777778,
              "#fb9f3a"
             ],
             [
              0.8888888888888888,
              "#fdca26"
             ],
             [
              1,
              "#f0f921"
             ]
            ],
            "type": "heatmap"
           }
          ],
          "histogram": [
           {
            "marker": {
             "pattern": {
              "fillmode": "overlay",
              "size": 10,
              "solidity": 0.2
             }
            },
            "type": "histogram"
           }
          ],
          "histogram2d": [
           {
            "colorbar": {
             "outlinewidth": 0,
             "ticks": ""
            },
            "colorscale": [
             [
              0,
              "#0d0887"
             ],
             [
              0.1111111111111111,
              "#46039f"
             ],
             [
              0.2222222222222222,
              "#7201a8"
             ],
             [
              0.3333333333333333,
              "#9c179e"
             ],
             [
              0.4444444444444444,
              "#bd3786"
             ],
             [
              0.5555555555555556,
              "#d8576b"
             ],
             [
              0.6666666666666666,
              "#ed7953"
             ],
             [
              0.7777777777777778,
              "#fb9f3a"
             ],
             [
              0.8888888888888888,
              "#fdca26"
             ],
             [
              1,
              "#f0f921"
             ]
            ],
            "type": "histogram2d"
           }
          ],
          "histogram2dcontour": [
           {
            "colorbar": {
             "outlinewidth": 0,
             "ticks": ""
            },
            "colorscale": [
             [
              0,
              "#0d0887"
             ],
             [
              0.1111111111111111,
              "#46039f"
             ],
             [
              0.2222222222222222,
              "#7201a8"
             ],
             [
              0.3333333333333333,
              "#9c179e"
             ],
             [
              0.4444444444444444,
              "#bd3786"
             ],
             [
              0.5555555555555556,
              "#d8576b"
             ],
             [
              0.6666666666666666,
              "#ed7953"
             ],
             [
              0.7777777777777778,
              "#fb9f3a"
             ],
             [
              0.8888888888888888,
              "#fdca26"
             ],
             [
              1,
              "#f0f921"
             ]
            ],
            "type": "histogram2dcontour"
           }
          ],
          "mesh3d": [
           {
            "colorbar": {
             "outlinewidth": 0,
             "ticks": ""
            },
            "type": "mesh3d"
           }
          ],
          "parcoords": [
           {
            "line": {
             "colorbar": {
              "outlinewidth": 0,
              "ticks": ""
             }
            },
            "type": "parcoords"
           }
          ],
          "pie": [
           {
            "automargin": true,
            "type": "pie"
           }
          ],
          "scatter": [
           {
            "fillpattern": {
             "fillmode": "overlay",
             "size": 10,
             "solidity": 0.2
            },
            "type": "scatter"
           }
          ],
          "scatter3d": [
           {
            "line": {
             "colorbar": {
              "outlinewidth": 0,
              "ticks": ""
             }
            },
            "marker": {
             "colorbar": {
              "outlinewidth": 0,
              "ticks": ""
             }
            },
            "type": "scatter3d"
           }
          ],
          "scattercarpet": [
           {
            "marker": {
             "colorbar": {
              "outlinewidth": 0,
              "ticks": ""
             }
            },
            "type": "scattercarpet"
           }
          ],
          "scattergeo": [
           {
            "marker": {
             "colorbar": {
              "outlinewidth": 0,
              "ticks": ""
             }
            },
            "type": "scattergeo"
           }
          ],
          "scattergl": [
           {
            "marker": {
             "colorbar": {
              "outlinewidth": 0,
              "ticks": ""
             }
            },
            "type": "scattergl"
           }
          ],
          "scattermap": [
           {
            "marker": {
             "colorbar": {
              "outlinewidth": 0,
              "ticks": ""
             }
            },
            "type": "scattermap"
           }
          ],
          "scattermapbox": [
           {
            "marker": {
             "colorbar": {
              "outlinewidth": 0,
              "ticks": ""
             }
            },
            "type": "scattermapbox"
           }
          ],
          "scatterpolar": [
           {
            "marker": {
             "colorbar": {
              "outlinewidth": 0,
              "ticks": ""
             }
            },
            "type": "scatterpolar"
           }
          ],
          "scatterpolargl": [
           {
            "marker": {
             "colorbar": {
              "outlinewidth": 0,
              "ticks": ""
             }
            },
            "type": "scatterpolargl"
           }
          ],
          "scatterternary": [
           {
            "marker": {
             "colorbar": {
              "outlinewidth": 0,
              "ticks": ""
             }
            },
            "type": "scatterternary"
           }
          ],
          "surface": [
           {
            "colorbar": {
             "outlinewidth": 0,
             "ticks": ""
            },
            "colorscale": [
             [
              0,
              "#0d0887"
             ],
             [
              0.1111111111111111,
              "#46039f"
             ],
             [
              0.2222222222222222,
              "#7201a8"
             ],
             [
              0.3333333333333333,
              "#9c179e"
             ],
             [
              0.4444444444444444,
              "#bd3786"
             ],
             [
              0.5555555555555556,
              "#d8576b"
             ],
             [
              0.6666666666666666,
              "#ed7953"
             ],
             [
              0.7777777777777778,
              "#fb9f3a"
             ],
             [
              0.8888888888888888,
              "#fdca26"
             ],
             [
              1,
              "#f0f921"
             ]
            ],
            "type": "surface"
           }
          ],
          "table": [
           {
            "cells": {
             "fill": {
              "color": "#EBF0F8"
             },
             "line": {
              "color": "white"
             }
            },
            "header": {
             "fill": {
              "color": "#C8D4E3"
             },
             "line": {
              "color": "white"
             }
            },
            "type": "table"
           }
          ]
         },
         "layout": {
          "annotationdefaults": {
           "arrowcolor": "#2a3f5f",
           "arrowhead": 0,
           "arrowwidth": 1
          },
          "autotypenumbers": "strict",
          "coloraxis": {
           "colorbar": {
            "outlinewidth": 0,
            "ticks": ""
           }
          },
          "colorscale": {
           "diverging": [
            [
             0,
             "#8e0152"
            ],
            [
             0.1,
             "#c51b7d"
            ],
            [
             0.2,
             "#de77ae"
            ],
            [
             0.3,
             "#f1b6da"
            ],
            [
             0.4,
             "#fde0ef"
            ],
            [
             0.5,
             "#f7f7f7"
            ],
            [
             0.6,
             "#e6f5d0"
            ],
            [
             0.7,
             "#b8e186"
            ],
            [
             0.8,
             "#7fbc41"
            ],
            [
             0.9,
             "#4d9221"
            ],
            [
             1,
             "#276419"
            ]
           ],
           "sequential": [
            [
             0,
             "#0d0887"
            ],
            [
             0.1111111111111111,
             "#46039f"
            ],
            [
             0.2222222222222222,
             "#7201a8"
            ],
            [
             0.3333333333333333,
             "#9c179e"
            ],
            [
             0.4444444444444444,
             "#bd3786"
            ],
            [
             0.5555555555555556,
             "#d8576b"
            ],
            [
             0.6666666666666666,
             "#ed7953"
            ],
            [
             0.7777777777777778,
             "#fb9f3a"
            ],
            [
             0.8888888888888888,
             "#fdca26"
            ],
            [
             1,
             "#f0f921"
            ]
           ],
           "sequentialminus": [
            [
             0,
             "#0d0887"
            ],
            [
             0.1111111111111111,
             "#46039f"
            ],
            [
             0.2222222222222222,
             "#7201a8"
            ],
            [
             0.3333333333333333,
             "#9c179e"
            ],
            [
             0.4444444444444444,
             "#bd3786"
            ],
            [
             0.5555555555555556,
             "#d8576b"
            ],
            [
             0.6666666666666666,
             "#ed7953"
            ],
            [
             0.7777777777777778,
             "#fb9f3a"
            ],
            [
             0.8888888888888888,
             "#fdca26"
            ],
            [
             1,
             "#f0f921"
            ]
           ]
          },
          "colorway": [
           "#636efa",
           "#EF553B",
           "#00cc96",
           "#ab63fa",
           "#FFA15A",
           "#19d3f3",
           "#FF6692",
           "#B6E880",
           "#FF97FF",
           "#FECB52"
          ],
          "font": {
           "color": "#2a3f5f"
          },
          "geo": {
           "bgcolor": "white",
           "lakecolor": "white",
           "landcolor": "#E5ECF6",
           "showlakes": true,
           "showland": true,
           "subunitcolor": "white"
          },
          "hoverlabel": {
           "align": "left"
          },
          "hovermode": "closest",
          "mapbox": {
           "style": "light"
          },
          "paper_bgcolor": "white",
          "plot_bgcolor": "#E5ECF6",
          "polar": {
           "angularaxis": {
            "gridcolor": "white",
            "linecolor": "white",
            "ticks": ""
           },
           "bgcolor": "#E5ECF6",
           "radialaxis": {
            "gridcolor": "white",
            "linecolor": "white",
            "ticks": ""
           }
          },
          "scene": {
           "xaxis": {
            "backgroundcolor": "#E5ECF6",
            "gridcolor": "white",
            "gridwidth": 2,
            "linecolor": "white",
            "showbackground": true,
            "ticks": "",
            "zerolinecolor": "white"
           },
           "yaxis": {
            "backgroundcolor": "#E5ECF6",
            "gridcolor": "white",
            "gridwidth": 2,
            "linecolor": "white",
            "showbackground": true,
            "ticks": "",
            "zerolinecolor": "white"
           },
           "zaxis": {
            "backgroundcolor": "#E5ECF6",
            "gridcolor": "white",
            "gridwidth": 2,
            "linecolor": "white",
            "showbackground": true,
            "ticks": "",
            "zerolinecolor": "white"
           }
          },
          "shapedefaults": {
           "line": {
            "color": "#2a3f5f"
           }
          },
          "ternary": {
           "aaxis": {
            "gridcolor": "white",
            "linecolor": "white",
            "ticks": ""
           },
           "baxis": {
            "gridcolor": "white",
            "linecolor": "white",
            "ticks": ""
           },
           "bgcolor": "#E5ECF6",
           "caxis": {
            "gridcolor": "white",
            "linecolor": "white",
            "ticks": ""
           }
          },
          "title": {
           "x": 0.05
          },
          "xaxis": {
           "automargin": true,
           "gridcolor": "white",
           "linecolor": "white",
           "ticks": "",
           "title": {
            "standoff": 15
           },
           "zerolinecolor": "white",
           "zerolinewidth": 2
          },
          "yaxis": {
           "automargin": true,
           "gridcolor": "white",
           "linecolor": "white",
           "ticks": "",
           "title": {
            "standoff": 15
           },
           "zerolinecolor": "white",
           "zerolinewidth": 2
          }
         }
        }
       }
      }
     },
     "metadata": {},
     "output_type": "display_data"
    }
   ],
   "source": [
    "node=(2,)    \n",
    "# instantiate and load your model\n",
    "factory = Model(node, x_train, growth, dropout=0.2, penalty=0, country_trends=False)\n",
    "factory.Depth=len(node)\n",
    "model=factory.get_model()\n",
    "weight_file = f'../results/Model Parameters/BIC/{node}.weights.h5'\n",
    "model.load_params(weight_file)\n",
    "\n",
    "# fit & predict\n",
    "model.fit(lr=lr, min_delta=min_delta, patience=patience, verbose=verbose)\n",
    "\n",
    "pred_flat = model.model_visual.predict(pred_input).reshape(-1,)\n",
    "Growth = pred_flat.reshape(T.shape) \n",
    "\n",
    "opacity = 0.3\n",
    "surf = go.Surface(\n",
    "    x=T, y=P/1000, z=Growth, #ensure that the surfaces are meassured in meters instead of milimeters\n",
    "    colorscale='Cividis',\n",
    "    opacity=0.85,\n",
    "    showscale=False,\n",
    "    name=f'Model {node}'\n",
    ")\n",
    "\n",
    "fig1 = go.Figure(data=surf)\n",
    "fig1.update_layout(\n",
    "    scene=dict(\n",
    "        xaxis_title='Temperature (°C)',\n",
    "        yaxis_title='Precipitation (m)',\n",
    "        zaxis_title='Δ ln(Growth)',\n",
    "        camera=dict(eye=dict(x=2.11, y=0.12, z=0.38)),\n",
    "        zaxis=dict(range=[-0.15, 0.15])\n",
    "    ),\n",
    "    legend=dict(\n",
    "        bgcolor='rgba(255,255,255,0.7)',\n",
    "        bordercolor='black',\n",
    "        borderwidth=1\n",
    "    )\n",
    ")\n",
    "\n",
    "fig1.show()\n",
    "\n",
    "\n"
   ]
  },
  {
   "cell_type": "code",
   "execution_count": 30,
   "id": "fedcf43c",
   "metadata": {},
   "outputs": [
    {
     "ename": "ValueError",
     "evalue": "Expected 2D array, got scalar array instead:\narray=<built-in method values of dict object at 0x7f5106994f80>.\nReshape your data either using array.reshape(-1, 1) if your data has a single feature or array.reshape(1, -1) if it contains a single sample.",
     "output_type": "error",
     "traceback": [
      "\u001b[0;31m---------------------------------------------------------------------------\u001b[0m",
      "\u001b[0;31mValueError\u001b[0m                                Traceback (most recent call last)",
      "Cell \u001b[0;32mIn[30], line 34\u001b[0m\n\u001b[1;32m     23\u001b[0m         \u001b[38;5;28;01mreturn\u001b[39;00m \u001b[38;5;241m1\u001b[39m \u001b[38;5;241m-\u001b[39m u\u001b[38;5;241m/\u001b[39mv\n\u001b[1;32m     27\u001b[0m wrapped_model \u001b[38;5;241m=\u001b[39m SKTFWrapper(model)\n\u001b[1;32m     30\u001b[0m perm \u001b[38;5;241m=\u001b[39m \u001b[43mPermutationImportance\u001b[49m\u001b[43m(\u001b[49m\n\u001b[1;32m     31\u001b[0m \u001b[43m    \u001b[49m\u001b[43mwrapped_model\u001b[49m\u001b[43m,\u001b[49m\u001b[43m \u001b[49m\n\u001b[1;32m     32\u001b[0m \u001b[43m    \u001b[49m\u001b[43mrandom_state\u001b[49m\u001b[38;5;241;43m=\u001b[39;49m\u001b[38;5;241;43m1\u001b[39;49m\u001b[43m,\u001b[49m\u001b[43m \u001b[49m\n\u001b[1;32m     33\u001b[0m \u001b[43m    \u001b[49m\u001b[43mscoring\u001b[49m\u001b[38;5;241;43m=\u001b[39;49m\u001b[38;5;124;43m\"\u001b[39;49m\u001b[38;5;124;43mr2\u001b[39;49m\u001b[38;5;124;43m\"\u001b[39;49m\u001b[43m  \u001b[49m\u001b[38;5;66;43;03m# or \"neg_mean_squared_error\"\u001b[39;49;00m\n\u001b[0;32m---> 34\u001b[0m \u001b[43m)\u001b[49m\u001b[38;5;241;43m.\u001b[39;49m\u001b[43mfit\u001b[49m\u001b[43m(\u001b[49m\u001b[43mx_train\u001b[49m\u001b[38;5;241;43m.\u001b[39;49m\u001b[43mvalues\u001b[49m\u001b[43m,\u001b[49m\u001b[43m \u001b[49m\u001b[43mgrowth\u001b[49m\u001b[38;5;241;43m.\u001b[39;49m\u001b[43mvalues\u001b[49m\u001b[43m)\u001b[49m   \u001b[38;5;66;03m# convert both X and y to NumPy\u001b[39;00m\n\u001b[1;32m     37\u001b[0m eli5\u001b[38;5;241m.\u001b[39mshow_weights(perm, feature_names\u001b[38;5;241m=\u001b[39mx_train\u001b[38;5;241m.\u001b[39mcolumns\u001b[38;5;241m.\u001b[39mtolist())\n",
      "File \u001b[0;32m/workspaces/Paper_1/.venv/lib/python3.12/site-packages/eli5/sklearn/permutation_importance.py:202\u001b[0m, in \u001b[0;36mPermutationImportance.fit\u001b[0;34m(self, X, y, groups, **fit_params)\u001b[0m\n\u001b[1;32m    199\u001b[0m     \u001b[38;5;28mself\u001b[39m\u001b[38;5;241m.\u001b[39mestimator_ \u001b[38;5;241m=\u001b[39m clone(\u001b[38;5;28mself\u001b[39m\u001b[38;5;241m.\u001b[39mestimator)\n\u001b[1;32m    200\u001b[0m     \u001b[38;5;28mself\u001b[39m\u001b[38;5;241m.\u001b[39mestimator_\u001b[38;5;241m.\u001b[39mfit(X, y, \u001b[38;5;241m*\u001b[39m\u001b[38;5;241m*\u001b[39mfit_params)\n\u001b[0;32m--> 202\u001b[0m X \u001b[38;5;241m=\u001b[39m \u001b[43mcheck_array\u001b[49m\u001b[43m(\u001b[49m\u001b[43mX\u001b[49m\u001b[43m,\u001b[49m\u001b[43m \u001b[49m\u001b[43mensure_all_finite\u001b[49m\u001b[38;5;241;43m=\u001b[39;49m\u001b[38;5;124;43m'\u001b[39;49m\u001b[38;5;124;43mallow-nan\u001b[39;49m\u001b[38;5;124;43m'\u001b[39;49m\u001b[43m)\u001b[49m\n\u001b[1;32m    204\u001b[0m \u001b[38;5;28;01mif\u001b[39;00m \u001b[38;5;28mself\u001b[39m\u001b[38;5;241m.\u001b[39mcv \u001b[38;5;129;01mnot\u001b[39;00m \u001b[38;5;129;01min\u001b[39;00m (\u001b[38;5;28;01mNone\u001b[39;00m, \u001b[38;5;124m\"\u001b[39m\u001b[38;5;124mprefit\u001b[39m\u001b[38;5;124m\"\u001b[39m):\n\u001b[1;32m    205\u001b[0m     si \u001b[38;5;241m=\u001b[39m \u001b[38;5;28mself\u001b[39m\u001b[38;5;241m.\u001b[39m_cv_scores_importances(X, y, groups\u001b[38;5;241m=\u001b[39mgroups, \u001b[38;5;241m*\u001b[39m\u001b[38;5;241m*\u001b[39mfit_params)\n",
      "File \u001b[0;32m/workspaces/Paper_1/.venv/lib/python3.12/site-packages/sklearn/utils/validation.py:1068\u001b[0m, in \u001b[0;36mcheck_array\u001b[0;34m(array, accept_sparse, accept_large_sparse, dtype, order, copy, force_writeable, force_all_finite, ensure_all_finite, ensure_non_negative, ensure_2d, allow_nd, ensure_min_samples, ensure_min_features, estimator, input_name)\u001b[0m\n\u001b[1;32m   1065\u001b[0m \u001b[38;5;28;01mif\u001b[39;00m ensure_2d:\n\u001b[1;32m   1066\u001b[0m     \u001b[38;5;66;03m# If input is scalar raise error\u001b[39;00m\n\u001b[1;32m   1067\u001b[0m     \u001b[38;5;28;01mif\u001b[39;00m array\u001b[38;5;241m.\u001b[39mndim \u001b[38;5;241m==\u001b[39m \u001b[38;5;241m0\u001b[39m:\n\u001b[0;32m-> 1068\u001b[0m         \u001b[38;5;28;01mraise\u001b[39;00m \u001b[38;5;167;01mValueError\u001b[39;00m(\n\u001b[1;32m   1069\u001b[0m             \u001b[38;5;124m\"\u001b[39m\u001b[38;5;124mExpected 2D array, got scalar array instead:\u001b[39m\u001b[38;5;130;01m\\n\u001b[39;00m\u001b[38;5;124marray=\u001b[39m\u001b[38;5;132;01m{}\u001b[39;00m\u001b[38;5;124m.\u001b[39m\u001b[38;5;130;01m\\n\u001b[39;00m\u001b[38;5;124m\"\u001b[39m\n\u001b[1;32m   1070\u001b[0m             \u001b[38;5;124m\"\u001b[39m\u001b[38;5;124mReshape your data either using array.reshape(-1, 1) if \u001b[39m\u001b[38;5;124m\"\u001b[39m\n\u001b[1;32m   1071\u001b[0m             \u001b[38;5;124m\"\u001b[39m\u001b[38;5;124myour data has a single feature or array.reshape(1, -1) \u001b[39m\u001b[38;5;124m\"\u001b[39m\n\u001b[1;32m   1072\u001b[0m             \u001b[38;5;124m\"\u001b[39m\u001b[38;5;124mif it contains a single sample.\u001b[39m\u001b[38;5;124m\"\u001b[39m\u001b[38;5;241m.\u001b[39mformat(array)\n\u001b[1;32m   1073\u001b[0m         )\n\u001b[1;32m   1074\u001b[0m     \u001b[38;5;66;03m# If input is 1D raise error\u001b[39;00m\n\u001b[1;32m   1075\u001b[0m     \u001b[38;5;28;01mif\u001b[39;00m array\u001b[38;5;241m.\u001b[39mndim \u001b[38;5;241m==\u001b[39m \u001b[38;5;241m1\u001b[39m:\n\u001b[1;32m   1076\u001b[0m         \u001b[38;5;66;03m# If input is a Series-like object (eg. pandas Series or polars Series)\u001b[39;00m\n",
      "\u001b[0;31mValueError\u001b[0m: Expected 2D array, got scalar array instead:\narray=<built-in method values of dict object at 0x7f5106994f80>.\nReshape your data either using array.reshape(-1, 1) if your data has a single feature or array.reshape(1, -1) if it contains a single sample."
     ]
    }
   ],
   "source": [
    "from sklearn.base import BaseEstimator, RegressorMixin\n",
    "import numpy as np\n",
    "import eli5\n",
    "from eli5.sklearn import PermutationImportance\n",
    "\n",
    "\n",
    "class SKTFWrapper(BaseEstimator, RegressorMixin):\n",
    "    def __init__(self, model):\n",
    "        self.model = model\n",
    "\n",
    "    def fit(self, X, y):\n",
    "        return self  # model already trained\n",
    "\n",
    "    def predict(self, X):\n",
    "        # Ensure correct shape (n_samples, n_features)\n",
    "        X = np.array(X)\n",
    "        return self.model.predict(X).reshape(-1)\n",
    "\n",
    "    def score(self, X, y):\n",
    "        y_pred = self.predict(X)\n",
    "        u = np.sum((y - y_pred) ** 2)\n",
    "        v = np.sum((y - np.mean(y)) ** 2)\n",
    "        return 1 - u/v\n",
    "\n",
    "\n",
    "\n",
    "wrapped_model = SKTFWrapper(model)\n",
    "\n",
    "\n",
    "perm = PermutationImportance(\n",
    "    wrapped_model, \n",
    "    random_state=1, \n",
    "    scoring=\"r2\"  # or \"neg_mean_squared_error\"\n",
    ").fit(x_train.values, growth.values)   # convert both X and y to NumPy\n",
    "\n",
    "\n",
    "eli5.show_weights(perm, feature_names=x_train.columns.tolist())"
   ]
  },
  {
   "cell_type": "code",
   "execution_count": null,
   "id": "523556d8",
   "metadata": {},
   "outputs": [
    {
     "name": "stdout",
     "output_type": "stream",
     "text": [
      "AIC -55524.05918969524\n"
     ]
    }
   ],
   "source": [
    "best_model.in_sample_predictions()\n",
    "print(\"AIC\", best_model.BIC)"
   ]
  },
  {
   "cell_type": "markdown",
   "id": "1531018d",
   "metadata": {},
   "source": [
    "2.3 Marginal effects"
   ]
  },
  {
   "cell_type": "code",
   "execution_count": null,
   "id": "5c70d8b9",
   "metadata": {},
   "outputs": [
    {
     "data": {
      "application/vnd.plotly.v1+json": {
       "config": {
        "plotlyServerURL": "https://plot.ly"
       },
       "data": [
        {
         "line": {
          "width": 2
         },
         "mode": "lines",
         "type": "scatter",
         "x": {
          "bdata": "AAAAAAAAAABZyUpWspLVP1nJSlaykuU/Axe4wAUu8D9ZyUpWspL1P6973ete9/o/Axe4wAUuAEAucIELXOACQFnJSlaykgVAhCIUoQhFCECve93rXvcKQNrUpja1qQ1AAxe4wAUuEECYwxzmMIcRQC5wgQtc4BJAwxzmMIc5FEBZyUpWspIVQO91r3vd6xZAhCIUoQhFGEAaz3jGM54ZQK973ete9xpARShCEYpQHEDa1KY2takdQHCBC1zgAh9AAxe4wAUuIEBObWpTm9ogQJjDHOYwhyFA4xnPeMYzIkAucIELXOAiQHnGM57xjCNAwxzmMIc5JEAOc5jDHOYkQFnJSlaykiVApB/96Ec/JkDvda973esmQDnMYQ5zmCdAhCIUoQhFKEDPeMYznvEoQBrPeMYznilAZCUrWclKKkCve93rXvcqQPrRj370oytARShCEYpQLECQfvSjH/0sQNrUpja1qS1AJStZyUpWLkBwgQtc4AIvQLvXve51ry9AAxe4wAUuMEAoQhGKUIQwQE5talOb2jBAc5jDHOYwMUCYwxzmMIcxQL7uda973TFA4xnPeMYzMkAIRShCEYoyQC5wgQtc4DJAU5va1KY2M0B5xjOe8YwzQJ7xjGc84zNAwxzmMIc5NEDpRz/60Y80QA5zmMMc5jRANJ7xjGc8NUBZyUpWspI1QH70ox/96DVApB/96Ec/NkDJSlaykpU2QO91r3vd6zZAFKEIRShCN0A5zGEOc5g3QF/3ute97jdAhCIUoQhFOECqTW1qU5s4QM94xjOe8ThA9KMf/ehHOUAaz3jGM545QD/60Y9+9DlAZCUrWclKOkCKUIQiFKE6QK973ete9zpA1aY2talNO0D60Y9+9KM7QB/96Ec/+jtARShCEYpQPEBqU5va1KY8QJB+9KMf/TxAtalNbWpTPUDa1KY2tak9QAAAAAAAAD5A",
          "dtype": "f8"
         },
         "y": {
          "bdata": "AO1EOQB2RTmAC0Y5AK9GOYBHRzkA4Uc5AGVIOYDmSDkAVUk5gLxJOQAESjmAR0o5gFdKOQBiSjkARUo5gARKOYC0STkAOEk5gKVIOYDtRzmAGEc5gA1GOQDzRDkAq0M5gE5COQDLQDkAEj85gFA9OQBzOzkAWTk5ADQ3OQDuNDkAhjI5AAwwOQB0LTkAxCo5gPcnOYANJTkAIyI5AA8fOQDwGzkAxhg5gIIVOYAzEjkA1A45AG4LOQD6BzkAfAQ5AOAAOQDZ+jgAffM4AGDsOAAg5TgAyd04AHvWOABAzzgA2cc4AIfAOABGuTgA9LE4AKKqOABfozgAN5w4AOiUOADEjTgAqIY4ADh/OAAIcTgAJGM4ACpVOABqRzgAwDk4ADQsOAC0HjgAdBE4ADQEOAA07jcAVNQ3AHi6NwAwoTcAqIc3AIBdNwBgLDcAAPY2AFCUNgBA1DUAwKy1AGCKtgAA57Y=",
          "dtype": "f4"
         }
        },
        {
         "line": {
          "width": 2
         },
         "mode": "lines",
         "type": "scatter",
         "x": {
          "bdata": "AAAAAAAAAABZyUpWspLVP1nJSlaykuU/Axe4wAUu8D9ZyUpWspL1P6973ete9/o/Axe4wAUuAEAucIELXOACQFnJSlaykgVAhCIUoQhFCECve93rXvcKQNrUpja1qQ1AAxe4wAUuEECYwxzmMIcRQC5wgQtc4BJAwxzmMIc5FEBZyUpWspIVQO91r3vd6xZAhCIUoQhFGEAaz3jGM54ZQK973ete9xpARShCEYpQHEDa1KY2takdQHCBC1zgAh9AAxe4wAUuIEBObWpTm9ogQJjDHOYwhyFA4xnPeMYzIkAucIELXOAiQHnGM57xjCNAwxzmMIc5JEAOc5jDHOYkQFnJSlaykiVApB/96Ec/JkDvda973esmQDnMYQ5zmCdAhCIUoQhFKEDPeMYznvEoQBrPeMYznilAZCUrWclKKkCve93rXvcqQPrRj370oytARShCEYpQLECQfvSjH/0sQNrUpja1qS1AJStZyUpWLkBwgQtc4AIvQLvXve51ry9AAxe4wAUuMEAoQhGKUIQwQE5talOb2jBAc5jDHOYwMUCYwxzmMIcxQL7uda973TFA4xnPeMYzMkAIRShCEYoyQC5wgQtc4DJAU5va1KY2M0B5xjOe8YwzQJ7xjGc84zNAwxzmMIc5NEDpRz/60Y80QA5zmMMc5jRANJ7xjGc8NUBZyUpWspI1QH70ox/96DVApB/96Ec/NkDJSlaykpU2QO91r3vd6zZAFKEIRShCN0A5zGEOc5g3QF/3ute97jdAhCIUoQhFOECqTW1qU5s4QM94xjOe8ThA9KMf/ehHOUAaz3jGM545QD/60Y9+9DlAZCUrWclKOkCKUIQiFKE6QK973ete9zpA1aY2talNO0D60Y9+9KM7QB/96Ec/+jtARShCEYpQPEBqU5va1KY8QJB+9KMf/TxAtalNbWpTPUDa1KY2tak9QAAAAAAAAD5A",
          "dtype": "f8"
         },
         "y": {
          "bdata": "IBy7rkDwpj8gHLuuQPCmP0C1WaIE56Y/YBBROzfbpT+AEFE7N9ulP8BCjiK/yKU/oATnxy3GpD+gBOfHLcakPyDQwqJ5qqQ/wPd8VCSxoz/A93xUJLGjP4Bc9yI0jKM/4OoS4Rqcoj/g6hLhGpyiP9DoK6PubaI/cN6obRGHoT9g3qhtEYehP2B1YCOpT6E/wNE++gdyoD/A0T76B3KgPwAClaNjMaA/wIqpDf25nj8Ai6kN/bmeP7Adk0c8Jp4/0HHVJuqPnD+gcdUm6o+cPxA3/Eex6Zs/cFgBQNdlmj9wWAFA12WaPwBQZUgmrZk/cD8tWcQ7mD+APy1ZxDuYP6BpzkibcJc/0CZZcrERlj/AJllysRGWPxCDN0kQNJU/eA2Fi57nkz94DYWLnueTPyCcoEmF95I/ePSwpIu9kT909LCki72RP2i1CUr6upA/ILa5e/Emjz/otbl78SaPP8Cd5ZTe/Iw/UIURrsvSij9UhRGuy9KKP0nQt5XIg4g/wFFp4KV+hj8EUmngpX6GP3wCipayCoQ/PiDBEoAqgj90IMESgCqCP5BquC45I38/8NsxirSsez9A3DGKtKx7PwDRXDANMXY/AHrh7mgEcz/QeeHuaARzP0BsAmTCfWo/oCgipzq4ZD+AKCKnOrhkP4Bpls7UMlE/APIKhBs9Oz8A8wqEGz07P0AC2CrblVK/wNM+jOfRW7/A0z6M59FbvyA1I5JFL2u/IDDA/Io5b7+AMMD8ijlvv7A0bcfOiXa/KHywGRFFeL/Ye7AZEUV4v4jQyMX6e3+/7HCAWq52gL/AcIBarnaAvxo1EmITN4S/VqIoKNTKhL8aoigo1MqEv6wCQGEpsIi/OtTQ9fkeib841ND1+R6Jv8DPbWA/KY2/+AV5wx9zjb9IBnnDH3ONv6DOza8q0ZC/OJyQyKLjkL9wnJDIouOQvw==",
          "dtype": "f8"
         }
        }
       ],
       "layout": {
        "legend": {
         "bgcolor": "rgba(255,255,255,0.7)",
         "bordercolor": "black",
         "borderwidth": 1
        },
        "template": {
         "data": {
          "bar": [
           {
            "error_x": {
             "color": "#2a3f5f"
            },
            "error_y": {
             "color": "#2a3f5f"
            },
            "marker": {
             "line": {
              "color": "#E5ECF6",
              "width": 0.5
             },
             "pattern": {
              "fillmode": "overlay",
              "size": 10,
              "solidity": 0.2
             }
            },
            "type": "bar"
           }
          ],
          "barpolar": [
           {
            "marker": {
             "line": {
              "color": "#E5ECF6",
              "width": 0.5
             },
             "pattern": {
              "fillmode": "overlay",
              "size": 10,
              "solidity": 0.2
             }
            },
            "type": "barpolar"
           }
          ],
          "carpet": [
           {
            "aaxis": {
             "endlinecolor": "#2a3f5f",
             "gridcolor": "white",
             "linecolor": "white",
             "minorgridcolor": "white",
             "startlinecolor": "#2a3f5f"
            },
            "baxis": {
             "endlinecolor": "#2a3f5f",
             "gridcolor": "white",
             "linecolor": "white",
             "minorgridcolor": "white",
             "startlinecolor": "#2a3f5f"
            },
            "type": "carpet"
           }
          ],
          "choropleth": [
           {
            "colorbar": {
             "outlinewidth": 0,
             "ticks": ""
            },
            "type": "choropleth"
           }
          ],
          "contour": [
           {
            "colorbar": {
             "outlinewidth": 0,
             "ticks": ""
            },
            "colorscale": [
             [
              0,
              "#0d0887"
             ],
             [
              0.1111111111111111,
              "#46039f"
             ],
             [
              0.2222222222222222,
              "#7201a8"
             ],
             [
              0.3333333333333333,
              "#9c179e"
             ],
             [
              0.4444444444444444,
              "#bd3786"
             ],
             [
              0.5555555555555556,
              "#d8576b"
             ],
             [
              0.6666666666666666,
              "#ed7953"
             ],
             [
              0.7777777777777778,
              "#fb9f3a"
             ],
             [
              0.8888888888888888,
              "#fdca26"
             ],
             [
              1,
              "#f0f921"
             ]
            ],
            "type": "contour"
           }
          ],
          "contourcarpet": [
           {
            "colorbar": {
             "outlinewidth": 0,
             "ticks": ""
            },
            "type": "contourcarpet"
           }
          ],
          "heatmap": [
           {
            "colorbar": {
             "outlinewidth": 0,
             "ticks": ""
            },
            "colorscale": [
             [
              0,
              "#0d0887"
             ],
             [
              0.1111111111111111,
              "#46039f"
             ],
             [
              0.2222222222222222,
              "#7201a8"
             ],
             [
              0.3333333333333333,
              "#9c179e"
             ],
             [
              0.4444444444444444,
              "#bd3786"
             ],
             [
              0.5555555555555556,
              "#d8576b"
             ],
             [
              0.6666666666666666,
              "#ed7953"
             ],
             [
              0.7777777777777778,
              "#fb9f3a"
             ],
             [
              0.8888888888888888,
              "#fdca26"
             ],
             [
              1,
              "#f0f921"
             ]
            ],
            "type": "heatmap"
           }
          ],
          "histogram": [
           {
            "marker": {
             "pattern": {
              "fillmode": "overlay",
              "size": 10,
              "solidity": 0.2
             }
            },
            "type": "histogram"
           }
          ],
          "histogram2d": [
           {
            "colorbar": {
             "outlinewidth": 0,
             "ticks": ""
            },
            "colorscale": [
             [
              0,
              "#0d0887"
             ],
             [
              0.1111111111111111,
              "#46039f"
             ],
             [
              0.2222222222222222,
              "#7201a8"
             ],
             [
              0.3333333333333333,
              "#9c179e"
             ],
             [
              0.4444444444444444,
              "#bd3786"
             ],
             [
              0.5555555555555556,
              "#d8576b"
             ],
             [
              0.6666666666666666,
              "#ed7953"
             ],
             [
              0.7777777777777778,
              "#fb9f3a"
             ],
             [
              0.8888888888888888,
              "#fdca26"
             ],
             [
              1,
              "#f0f921"
             ]
            ],
            "type": "histogram2d"
           }
          ],
          "histogram2dcontour": [
           {
            "colorbar": {
             "outlinewidth": 0,
             "ticks": ""
            },
            "colorscale": [
             [
              0,
              "#0d0887"
             ],
             [
              0.1111111111111111,
              "#46039f"
             ],
             [
              0.2222222222222222,
              "#7201a8"
             ],
             [
              0.3333333333333333,
              "#9c179e"
             ],
             [
              0.4444444444444444,
              "#bd3786"
             ],
             [
              0.5555555555555556,
              "#d8576b"
             ],
             [
              0.6666666666666666,
              "#ed7953"
             ],
             [
              0.7777777777777778,
              "#fb9f3a"
             ],
             [
              0.8888888888888888,
              "#fdca26"
             ],
             [
              1,
              "#f0f921"
             ]
            ],
            "type": "histogram2dcontour"
           }
          ],
          "mesh3d": [
           {
            "colorbar": {
             "outlinewidth": 0,
             "ticks": ""
            },
            "type": "mesh3d"
           }
          ],
          "parcoords": [
           {
            "line": {
             "colorbar": {
              "outlinewidth": 0,
              "ticks": ""
             }
            },
            "type": "parcoords"
           }
          ],
          "pie": [
           {
            "automargin": true,
            "type": "pie"
           }
          ],
          "scatter": [
           {
            "fillpattern": {
             "fillmode": "overlay",
             "size": 10,
             "solidity": 0.2
            },
            "type": "scatter"
           }
          ],
          "scatter3d": [
           {
            "line": {
             "colorbar": {
              "outlinewidth": 0,
              "ticks": ""
             }
            },
            "marker": {
             "colorbar": {
              "outlinewidth": 0,
              "ticks": ""
             }
            },
            "type": "scatter3d"
           }
          ],
          "scattercarpet": [
           {
            "marker": {
             "colorbar": {
              "outlinewidth": 0,
              "ticks": ""
             }
            },
            "type": "scattercarpet"
           }
          ],
          "scattergeo": [
           {
            "marker": {
             "colorbar": {
              "outlinewidth": 0,
              "ticks": ""
             }
            },
            "type": "scattergeo"
           }
          ],
          "scattergl": [
           {
            "marker": {
             "colorbar": {
              "outlinewidth": 0,
              "ticks": ""
             }
            },
            "type": "scattergl"
           }
          ],
          "scattermap": [
           {
            "marker": {
             "colorbar": {
              "outlinewidth": 0,
              "ticks": ""
             }
            },
            "type": "scattermap"
           }
          ],
          "scattermapbox": [
           {
            "marker": {
             "colorbar": {
              "outlinewidth": 0,
              "ticks": ""
             }
            },
            "type": "scattermapbox"
           }
          ],
          "scatterpolar": [
           {
            "marker": {
             "colorbar": {
              "outlinewidth": 0,
              "ticks": ""
             }
            },
            "type": "scatterpolar"
           }
          ],
          "scatterpolargl": [
           {
            "marker": {
             "colorbar": {
              "outlinewidth": 0,
              "ticks": ""
             }
            },
            "type": "scatterpolargl"
           }
          ],
          "scatterternary": [
           {
            "marker": {
             "colorbar": {
              "outlinewidth": 0,
              "ticks": ""
             }
            },
            "type": "scatterternary"
           }
          ],
          "surface": [
           {
            "colorbar": {
             "outlinewidth": 0,
             "ticks": ""
            },
            "colorscale": [
             [
              0,
              "#0d0887"
             ],
             [
              0.1111111111111111,
              "#46039f"
             ],
             [
              0.2222222222222222,
              "#7201a8"
             ],
             [
              0.3333333333333333,
              "#9c179e"
             ],
             [
              0.4444444444444444,
              "#bd3786"
             ],
             [
              0.5555555555555556,
              "#d8576b"
             ],
             [
              0.6666666666666666,
              "#ed7953"
             ],
             [
              0.7777777777777778,
              "#fb9f3a"
             ],
             [
              0.8888888888888888,
              "#fdca26"
             ],
             [
              1,
              "#f0f921"
             ]
            ],
            "type": "surface"
           }
          ],
          "table": [
           {
            "cells": {
             "fill": {
              "color": "#EBF0F8"
             },
             "line": {
              "color": "white"
             }
            },
            "header": {
             "fill": {
              "color": "#C8D4E3"
             },
             "line": {
              "color": "white"
             }
            },
            "type": "table"
           }
          ]
         },
         "layout": {
          "annotationdefaults": {
           "arrowcolor": "#2a3f5f",
           "arrowhead": 0,
           "arrowwidth": 1
          },
          "autotypenumbers": "strict",
          "coloraxis": {
           "colorbar": {
            "outlinewidth": 0,
            "ticks": ""
           }
          },
          "colorscale": {
           "diverging": [
            [
             0,
             "#8e0152"
            ],
            [
             0.1,
             "#c51b7d"
            ],
            [
             0.2,
             "#de77ae"
            ],
            [
             0.3,
             "#f1b6da"
            ],
            [
             0.4,
             "#fde0ef"
            ],
            [
             0.5,
             "#f7f7f7"
            ],
            [
             0.6,
             "#e6f5d0"
            ],
            [
             0.7,
             "#b8e186"
            ],
            [
             0.8,
             "#7fbc41"
            ],
            [
             0.9,
             "#4d9221"
            ],
            [
             1,
             "#276419"
            ]
           ],
           "sequential": [
            [
             0,
             "#0d0887"
            ],
            [
             0.1111111111111111,
             "#46039f"
            ],
            [
             0.2222222222222222,
             "#7201a8"
            ],
            [
             0.3333333333333333,
             "#9c179e"
            ],
            [
             0.4444444444444444,
             "#bd3786"
            ],
            [
             0.5555555555555556,
             "#d8576b"
            ],
            [
             0.6666666666666666,
             "#ed7953"
            ],
            [
             0.7777777777777778,
             "#fb9f3a"
            ],
            [
             0.8888888888888888,
             "#fdca26"
            ],
            [
             1,
             "#f0f921"
            ]
           ],
           "sequentialminus": [
            [
             0,
             "#0d0887"
            ],
            [
             0.1111111111111111,
             "#46039f"
            ],
            [
             0.2222222222222222,
             "#7201a8"
            ],
            [
             0.3333333333333333,
             "#9c179e"
            ],
            [
             0.4444444444444444,
             "#bd3786"
            ],
            [
             0.5555555555555556,
             "#d8576b"
            ],
            [
             0.6666666666666666,
             "#ed7953"
            ],
            [
             0.7777777777777778,
             "#fb9f3a"
            ],
            [
             0.8888888888888888,
             "#fdca26"
            ],
            [
             1,
             "#f0f921"
            ]
           ]
          },
          "colorway": [
           "#636efa",
           "#EF553B",
           "#00cc96",
           "#ab63fa",
           "#FFA15A",
           "#19d3f3",
           "#FF6692",
           "#B6E880",
           "#FF97FF",
           "#FECB52"
          ],
          "font": {
           "color": "#2a3f5f"
          },
          "geo": {
           "bgcolor": "white",
           "lakecolor": "white",
           "landcolor": "#E5ECF6",
           "showlakes": true,
           "showland": true,
           "subunitcolor": "white"
          },
          "hoverlabel": {
           "align": "left"
          },
          "hovermode": "closest",
          "mapbox": {
           "style": "light"
          },
          "paper_bgcolor": "white",
          "plot_bgcolor": "#E5ECF6",
          "polar": {
           "angularaxis": {
            "gridcolor": "white",
            "linecolor": "white",
            "ticks": ""
           },
           "bgcolor": "#E5ECF6",
           "radialaxis": {
            "gridcolor": "white",
            "linecolor": "white",
            "ticks": ""
           }
          },
          "scene": {
           "xaxis": {
            "backgroundcolor": "#E5ECF6",
            "gridcolor": "white",
            "gridwidth": 2,
            "linecolor": "white",
            "showbackground": true,
            "ticks": "",
            "zerolinecolor": "white"
           },
           "yaxis": {
            "backgroundcolor": "#E5ECF6",
            "gridcolor": "white",
            "gridwidth": 2,
            "linecolor": "white",
            "showbackground": true,
            "ticks": "",
            "zerolinecolor": "white"
           },
           "zaxis": {
            "backgroundcolor": "#E5ECF6",
            "gridcolor": "white",
            "gridwidth": 2,
            "linecolor": "white",
            "showbackground": true,
            "ticks": "",
            "zerolinecolor": "white"
           }
          },
          "shapedefaults": {
           "line": {
            "color": "#2a3f5f"
           }
          },
          "ternary": {
           "aaxis": {
            "gridcolor": "white",
            "linecolor": "white",
            "ticks": ""
           },
           "baxis": {
            "gridcolor": "white",
            "linecolor": "white",
            "ticks": ""
           },
           "bgcolor": "#E5ECF6",
           "caxis": {
            "gridcolor": "white",
            "linecolor": "white",
            "ticks": ""
           }
          },
          "title": {
           "x": 0.05
          },
          "xaxis": {
           "automargin": true,
           "gridcolor": "white",
           "linecolor": "white",
           "ticks": "",
           "title": {
            "standoff": 15
           },
           "zerolinecolor": "white",
           "zerolinewidth": 2
          },
          "yaxis": {
           "automargin": true,
           "gridcolor": "white",
           "linecolor": "white",
           "ticks": "",
           "title": {
            "standoff": 15
           },
           "zerolinecolor": "white",
           "zerolinewidth": 2
          }
         }
        },
        "xaxis": {
         "range": [
          0,
          30
         ],
         "title": {
          "text": "Temperature (°C)"
         }
        },
        "yaxis": {
         "title": {
          "text": "Growth"
         }
        }
       }
      }
     },
     "metadata": {},
     "output_type": "display_data"
    }
   ],
   "source": [
    "   ##Marginal effects are calculated by keeping precipitation at a constant, and then calculating the corresponding growth moving one temperature up. \n",
    "\n",
    "   # flatten the precip grid and compute 33rd percentile\n",
    "   fixed_array = np.percentile(np.array(P.flatten()), q=99)\n",
    "\n",
    "   # find the row index in P closest to that precip\n",
    "   # (assuming P is shape (n_precip, n_temp) from meshgrid)\n",
    "   idx = np.argmin(np.abs(P[:,0] - fixed_array))\n",
    "\n",
    "   axis = T[idx, :]\n",
    "\n",
    "\n",
    "   # extract model and benchmark slices\n",
    "   model_slice = Growth[idx, :]\n",
    "   bench_growth = bench_Z[idx, :]\n",
    "\n",
    "\n",
    "   marginal_effects_NN = np.diff(model_slice)  # first difference to approximate marginal effects\n",
    "   marginal_effects_Leirvik = np.diff(bench_growth)  # first difference to approximate marginal effects\n",
    "\n",
    "   fig2d = go.Figure()\n",
    "\n",
    "\n",
    "\n",
    "   # --- 2) make the 2D line plot --------------------------------------------\n",
    "   fig2d.add_trace(go.Scatter(\n",
    "            x=axis,\n",
    "            y=marginal_effects_NN,\n",
    "            mode='lines',\n",
    "            line=dict(width=2)\n",
    "      ))\n",
    "\n",
    "   fig2d.add_trace(go.Scatter(\n",
    "            x=axis,\n",
    "            y=marginal_effects_Leirvik,\n",
    "            mode='lines',\n",
    "            line=dict(width=2)\n",
    "      ))\n",
    "\n",
    "\n",
    "\n",
    "   fig2d.update_layout(\n",
    "   xaxis_title='Temperature (°C)',\n",
    "   yaxis_title='Growth',\n",
    "   xaxis=dict(range=[0, 30]),\n",
    "   legend=dict(\n",
    "      bgcolor='rgba(255,255,255,0.7)',\n",
    "      bordercolor='black',\n",
    "      borderwidth=1\n",
    "   )\n",
    "   )\n",
    "\n",
    "   fig2d.show()\n",
    "\n",
    "\n",
    "\n",
    "\n",
    "\n",
    "   "
   ]
  },
  {
   "cell_type": "markdown",
   "id": "3e854986",
   "metadata": {},
   "source": [
    "## 2.2 Comparing Fixed Effects"
   ]
  },
  {
   "cell_type": "code",
   "execution_count": 1,
   "id": "3ac23f85",
   "metadata": {},
   "outputs": [
    {
     "ename": "NameError",
     "evalue": "name 'Model' is not defined",
     "output_type": "error",
     "traceback": [
      "\u001b[0;31m---------------------------------------------------------------------------\u001b[0m",
      "\u001b[0;31mNameError\u001b[0m                                 Traceback (most recent call last)",
      "Cell \u001b[0;32mIn[1], line 11\u001b[0m\n\u001b[1;32m      9\u001b[0m \u001b[38;5;66;03m#define model of interest\u001b[39;00m\n\u001b[1;32m     10\u001b[0m node\u001b[38;5;241m=\u001b[39m(\u001b[38;5;241m2\u001b[39m,)\n\u001b[0;32m---> 11\u001b[0m factory \u001b[38;5;241m=\u001b[39m \u001b[43mModel\u001b[49m(node, x_train, growth, dropout\u001b[38;5;241m=\u001b[39m\u001b[38;5;241m0.2\u001b[39m, penalty\u001b[38;5;241m=\u001b[39m\u001b[38;5;241m0\u001b[39m, country_trends\u001b[38;5;241m=\u001b[39m\u001b[38;5;28;01mTrue\u001b[39;00m)\n\u001b[1;32m     12\u001b[0m factory\u001b[38;5;241m.\u001b[39mDepth\u001b[38;5;241m=\u001b[39m\u001b[38;5;28mlen\u001b[39m(node)\n\u001b[1;32m     13\u001b[0m model\u001b[38;5;241m=\u001b[39mfactory\u001b[38;5;241m.\u001b[39mget_model()\n",
      "\u001b[0;31mNameError\u001b[0m: name 'Model' is not defined"
     ]
    }
   ],
   "source": [
    "#model parameters                    \n",
    "lr = 0.001                      # Learning rate\n",
    "min_delta = 1e-6               # Tolerance for optimization\n",
    "patience = 50                   # Patience for early stopping\n",
    "verbose = 2                     # Verbosity mode for optimization\n",
    "n_countries=196\n",
    "time_periods=63                 #\n",
    "\n",
    "#define model of interest\n",
    "node=(2,)\n",
    "factory = Model(node, x_train, growth, dropout=0.2, penalty=0, country_trends=True)\n",
    "factory.Depth=len(node)\n",
    "model=factory.get_model()\n",
    "\n",
    "weight_file = f'../results/Model Parameters/BIC/{node}.weights.h5'\n",
    "model.load_params(weight_file)\n",
    "\n",
    "# fit & predict\n",
    "model.fit(lr=lr, min_delta=min_delta, patience=patience, verbose=verbose)\n",
    "\n",
    "model.alpha\n",
    "theta_linear = model.linear_trend_layer.get_weights()[0].reshape(-1)  # length = number of countries included\n",
    "theta_quad   = model.quadratic_trend_layer.get_weights()[0].reshape(-1)\n",
    "\n"
   ]
  },
  {
   "cell_type": "code",
   "execution_count": 34,
   "id": "1bee50b9",
   "metadata": {},
   "outputs": [
    {
     "name": "stdout",
     "output_type": "stream",
     "text": [
      "(195,) (195,)\n",
      "               iso bench_country_FE  model_alpha      diff\n",
      "0      C(ISO)[T.8]         2.724419    -0.013990  2.738409\n",
      "1     C(ISO)[T.12]         2.838405    -0.006018  2.844423\n",
      "2     C(ISO)[T.16]         3.203189     0.061204  3.141985\n",
      "3     C(ISO)[T.24]         2.652902    -0.003291  2.656194\n",
      "4     C(ISO)[T.28]         3.044317    -0.016146  3.060463\n",
      "..             ...              ...          ...       ...\n",
      "190  C(ISO)[T.858]         2.824695    -0.019081  2.843776\n",
      "191  C(ISO)[T.860]         2.578213     0.011377  2.566836\n",
      "192  C(ISO)[T.882]         2.806298     0.004505  2.801793\n",
      "193  C(ISO)[T.887]         2.701435    -0.007037  2.708472\n",
      "194  C(ISO)[T.894]         2.849093     0.019768  2.829325\n",
      "\n",
      "[195 rows x 4 columns]\n"
     ]
    }
   ],
   "source": [
    "\n",
    "#compare country Fixed effects from benchmark and model \n",
    "\n",
    "bench_country_FE=np.load('../Benchmark/country_FE.npy', allow_pickle=True)\n",
    "\n",
    "\n",
    "iso = np.asarray(bench_country_FE)[:,0]\n",
    "arr = np.asarray(bench_country_FE)[:,1]\n",
    "alpha_1d = np.asarray(model.alpha).squeeze()   # collapses (1,N) -> (N,)\n",
    "\n",
    "print(arr.shape, alpha_1d.shape)\n",
    "\n",
    "df=pd.DataFrame({\n",
    "    'iso': iso,\n",
    "    'bench_country_FE': arr,\n",
    "    'model_alpha': alpha_1d\n",
    "    ,'diff': arr - alpha_1d\n",
    "})\n",
    "\n",
    "print(df)"
   ]
  },
  {
   "cell_type": "code",
   "execution_count": 36,
   "id": "a5d91368",
   "metadata": {},
   "outputs": [
    {
     "name": "stdout",
     "output_type": "stream",
     "text": [
      "(62,) (62,)\n",
      "                iso bench_time_FE  model_alpha      diff\n",
      "0   C(Year)[T.1962]      0.012038     0.014021 -0.001982\n",
      "1   C(Year)[T.1963]      0.010864     0.010663  0.000202\n",
      "2   C(Year)[T.1964]      0.018263     0.019452 -0.001189\n",
      "3   C(Year)[T.1965]      0.017382     0.016576  0.000806\n",
      "4   C(Year)[T.1966]       0.00874     0.006543  0.002197\n",
      "..              ...           ...          ...       ...\n",
      "57  C(Year)[T.2019]      0.000793     0.002026 -0.001233\n",
      "58  C(Year)[T.2020]     -0.076118    -0.074507  -0.00161\n",
      "59  C(Year)[T.2021]      0.030084     0.030975 -0.000892\n",
      "60  C(Year)[T.2022]      0.014908     0.017487 -0.002579\n",
      "61  C(Year)[T.2023]      0.001632     0.002877 -0.001245\n",
      "\n",
      "[62 rows x 4 columns]\n"
     ]
    }
   ],
   "source": [
    "#compare country Fixed effects from benchmark and model \n",
    "\n",
    "bench_time_FE=np.load('../Benchmark/time_FE.npy', allow_pickle=True)\n",
    "\n",
    "\n",
    "\n",
    "iso = np.asarray(bench_time_FE)[:,0]\n",
    "arr = np.asarray(bench_time_FE)[:,1]\n",
    "alpha_1d = np.asarray(model.beta).squeeze()   # collapses (1,N) -> (N,)\n",
    "\n",
    "print(arr.shape, alpha_1d.shape)\n",
    "\n",
    "df=pd.DataFrame({\n",
    "    'iso': iso,\n",
    "    'bench_time_FE': arr,\n",
    "    'model_alpha': alpha_1d\n",
    "    ,'diff': arr - alpha_1d\n",
    "})\n",
    "\n",
    "print(df)"
   ]
  },
  {
   "cell_type": "code",
   "execution_count": 37,
   "id": "c367da24",
   "metadata": {},
   "outputs": [
    {
     "name": "stdout",
     "output_type": "stream",
     "text": [
      "(196,) (196,)\n",
      "                   iso bench_time_FE  model_alpha      diff\n",
      "0      X_yi_isoXtime_4      0.118579     0.007977  0.110602\n",
      "1      X_yi_isoXtime_8      0.005985     0.002026  0.003959\n",
      "2     X_yi_isoXtime_12      0.001192     0.001534 -0.000341\n",
      "3     X_yi_isoXtime_16     -0.015025    -0.003148 -0.011877\n",
      "4     X_yi_isoXtime_24      0.010997     0.001756  0.009241\n",
      "..                 ...           ...          ...       ...\n",
      "191  X_yi_isoXtime_704      0.004008     0.003178  0.000831\n",
      "192   X_yi_isoXtime_92     -0.099697     0.005911 -0.105608\n",
      "193  X_yi_isoXtime_887      0.013474     0.000843   0.01263\n",
      "194  X_yi_isoXtime_894      0.000444     0.000506 -0.000061\n",
      "195  X_yi_isoXtime_716     -0.001335    -0.000509 -0.000826\n",
      "\n",
      "[196 rows x 4 columns]\n"
     ]
    }
   ],
   "source": [
    "#compare country Fixed effects from benchmark and model \n",
    "\n",
    "bench_linear_trend_FE=np.load('../Benchmark/linear_time_trend.npy', allow_pickle=True)\n",
    "\n",
    "\n",
    "\n",
    "iso = np.asarray(bench_linear_trend_FE)[:,0]\n",
    "arr = np.asarray(bench_linear_trend_FE)[:,1]\n",
    "alpha_1d = np.asarray(theta_linear).squeeze()   # collapses (1,N) -> (N,)\n",
    "\n",
    "print(arr.shape, alpha_1d.shape)\n",
    "\n",
    "df=pd.DataFrame({\n",
    "    'iso': iso,\n",
    "    'bench_linear_trend': arr,\n",
    "    'model_linear_trend': alpha_1d\n",
    "    ,'diff': arr - alpha_1d\n",
    "})\n",
    "\n",
    "print(df)"
   ]
  },
  {
   "cell_type": "code",
   "execution_count": null,
   "id": "0201c663",
   "metadata": {},
   "outputs": [],
   "source": [
    "#time fixed effects benchmark data\n",
    "bench_time=pd.read_csv('../data/Benchmark/time_fixed_effects_Burke.csv')\n",
    "\n",
    "# cleaning up the benchmark time data\n",
    "bench_time['time'] = bench_time['Unnamed: 0'].astype(str).str.extract(r'(\\d{4})')\n",
    "bench_time['time'] = bench_time['time'].astype(float).astype('Int64')  # nullable integer\n",
    "bench_time.drop(columns=['Unnamed: 0'], inplace=True)\n",
    "\n",
    "\n",
    "#comparing model time fixed effects with benchmark time fixed effects\n",
    "plt.figure(figsize=(10, 6))\n",
    "plt.plot(bench_time.iloc[:, 1], bench_time.iloc[:, 0], label='Benchmark', color='red')\n",
    "plt.plot(model.beta, label='Model', color='blue')\n",
    "\n",
    "\n"
   ]
  },
  {
   "cell_type": "markdown",
   "id": "e219e69c",
   "metadata": {},
   "source": [
    "## 2.3 Making 2-D plots"
   ]
  },
  {
   "cell_type": "code",
   "execution_count": null,
   "id": "3a6ab082",
   "metadata": {},
   "outputs": [
    {
     "data": {
      "application/vnd.plotly.v1+json": {
       "config": {
        "plotlyServerURL": "https://plot.ly"
       },
       "data": [
        {
         "line": {
          "width": 2
         },
         "mode": "lines",
         "name": "Precipitation 0th Percentile",
         "type": "scatter",
         "x": {
          "bdata": "AAAAAAAAAABZyUpWspLVP1nJSlaykuU/Axe4wAUu8D9ZyUpWspL1P6973ete9/o/Axe4wAUuAEAucIELXOACQFnJSlaykgVAhCIUoQhFCECve93rXvcKQNrUpja1qQ1AAxe4wAUuEECYwxzmMIcRQC5wgQtc4BJAwxzmMIc5FEBZyUpWspIVQO91r3vd6xZAhCIUoQhFGEAaz3jGM54ZQK973ete9xpARShCEYpQHEDa1KY2takdQHCBC1zgAh9AAxe4wAUuIEBObWpTm9ogQJjDHOYwhyFA4xnPeMYzIkAucIELXOAiQHnGM57xjCNAwxzmMIc5JEAOc5jDHOYkQFnJSlaykiVApB/96Ec/JkDvda973esmQDnMYQ5zmCdAhCIUoQhFKEDPeMYznvEoQBrPeMYznilAZCUrWclKKkCve93rXvcqQPrRj370oytARShCEYpQLECQfvSjH/0sQNrUpja1qS1AJStZyUpWLkBwgQtc4AIvQLvXve51ry9AAxe4wAUuMEAoQhGKUIQwQE5talOb2jBAc5jDHOYwMUCYwxzmMIcxQL7uda973TFA4xnPeMYzMkAIRShCEYoyQC5wgQtc4DJAU5va1KY2M0B5xjOe8YwzQJ7xjGc84zNAwxzmMIc5NEDpRz/60Y80QA5zmMMc5jRANJ7xjGc8NUBZyUpWspI1QH70ox/96DVApB/96Ec/NkDJSlaykpU2QO91r3vd6zZAFKEIRShCN0A5zGEOc5g3QF/3ute97jdAhCIUoQhFOECqTW1qU5s4QM94xjOe8ThA9KMf/ehHOUAaz3jGM545QD/60Y9+9DlAZCUrWclKOkCKUIQiFKE6QK973ete9zpA1aY2talNO0D60Y9+9KM7QB/96Ec/+jtARShCEYpQPEBqU5va1KY8QJB+9KMf/TxAtalNbWpTPUDa1KY2tak9QAAAAAAAAD5A",
          "dtype": "f8"
         },
         "y": {
          "bdata": "luQYPMDwHDw6+yA8BQElPBr/KDzK8iw8QNkwPO+vNDxkdDg8PSQ8PGa9PzziPUM8tqNGPGTtSTxIGU08CSZQPJcSUzyy3VU8soZYPMoMWzx0b108Na5fPNjIYTwNv2M8+5BlPIo+Zzzcx2g8Si1qPBZvazyrjWw8ZIltPMpibjxiGm88o7BvPDAmcDyke3A8dLFwPD/IcDyJwHA8wppwPH9XcDwm9288DXpvPKfgbjwyK24851ltPA9tbDy/ZGs8/0BqPO4BaTxyp2c8fDFmPOSfZDxo8mI8/ihhPDxDXzzMQF08YiFbPLDkWDw2ilY8ohFUPJB6UTyExE48Ge9LPAb6SDzq5EU8Va9CPCBZPzz04Ts8ukk4PEGQNDxjtTA8XLksPBOcKDzJXSQ8yf4fPFp/GzwO4BY8TCESPNtDDTyFSAg8KjADPHD3+zu4WPE7lIbmO5SD2ztsUtA7avbEO65yuTugyq07",
          "dtype": "f4"
         }
        },
        {
         "line": {
          "width": 2
         },
         "mode": "lines",
         "name": "Precipitation 33th Percentile",
         "type": "scatter",
         "x": {
          "bdata": "AAAAAAAAAABZyUpWspLVP1nJSlaykuU/Axe4wAUu8D9ZyUpWspL1P6973ete9/o/Axe4wAUuAEAucIELXOACQFnJSlaykgVAhCIUoQhFCECve93rXvcKQNrUpja1qQ1AAxe4wAUuEECYwxzmMIcRQC5wgQtc4BJAwxzmMIc5FEBZyUpWspIVQO91r3vd6xZAhCIUoQhFGEAaz3jGM54ZQK973ete9xpARShCEYpQHEDa1KY2takdQHCBC1zgAh9AAxe4wAUuIEBObWpTm9ogQJjDHOYwhyFA4xnPeMYzIkAucIELXOAiQHnGM57xjCNAwxzmMIc5JEAOc5jDHOYkQFnJSlaykiVApB/96Ec/JkDvda973esmQDnMYQ5zmCdAhCIUoQhFKEDPeMYznvEoQBrPeMYznilAZCUrWclKKkCve93rXvcqQPrRj370oytARShCEYpQLECQfvSjH/0sQNrUpja1qS1AJStZyUpWLkBwgQtc4AIvQLvXve51ry9AAxe4wAUuMEAoQhGKUIQwQE5talOb2jBAc5jDHOYwMUCYwxzmMIcxQL7uda973TFA4xnPeMYzMkAIRShCEYoyQC5wgQtc4DJAU5va1KY2M0B5xjOe8YwzQJ7xjGc84zNAwxzmMIc5NEDpRz/60Y80QA5zmMMc5jRANJ7xjGc8NUBZyUpWspI1QH70ox/96DVApB/96Ec/NkDJSlaykpU2QO91r3vd6zZAFKEIRShCN0A5zGEOc5g3QF/3ute97jdAhCIUoQhFOECqTW1qU5s4QM94xjOe8ThA9KMf/ehHOUAaz3jGM545QD/60Y9+9DlAZCUrWclKOkCKUIQiFKE6QK973ete9zpA1aY2talNO0D60Y9+9KM7QB/96Ec/+jtARShCEYpQPEBqU5va1KY8QJB+9KMf/TxAtalNbWpTPUDa1KY2tak9QAAAAAAAAD5A",
          "dtype": "f8"
         },
         "y": {
          "bdata": "GAgzPFjUMjxKrDI8WJAyPPSAMjyLfjI8ZIkyPOihMjxXyDI83PwyPMQ/MzwkkTM8FPEzPMdfNDwp3TQ8Lmk1PPcDNjw6rTY8AWU3PBMrODxM/zg8fOE5PGXROjzFzjs8aNk8PPjwPTwjFT88tEVAPFyCQTy2ykI8iR5EPHB9RTwO50Y8LltIPG7ZSTyFYUs8EPNMPMqNTjxiMVA8g91RPNSRUzz9TVU8sBFXPH3cWDwWrlo8FoZcPPxjXjxwR2A89C9iPPkcZDwUDmY8kgJoPO35aTx+82s8je5tPGbqbzxN5nE8dOFzPPbadTz+0Xc8qMV5PP+0ezwgn308/IJ/PNivgDwbmoE8z3+CPHNggzyZO4Q8xBCFPITfhTxzp4Y8K2iHPFIhiDyX0og8sHuJPF4cijx0tIo8xkOLPD3KizzKR4w8b7yMPD0ojTxSi4081+WNPAI4jjwYgo48b8SOPF//jjxVM488",
          "dtype": "f4"
         }
        },
        {
         "line": {
          "width": 2
         },
         "mode": "lines",
         "name": "Precipitation 66th Percentile",
         "type": "scatter",
         "x": {
          "bdata": "AAAAAAAAAABZyUpWspLVP1nJSlaykuU/Axe4wAUu8D9ZyUpWspL1P6973ete9/o/Axe4wAUuAEAucIELXOACQFnJSlaykgVAhCIUoQhFCECve93rXvcKQNrUpja1qQ1AAxe4wAUuEECYwxzmMIcRQC5wgQtc4BJAwxzmMIc5FEBZyUpWspIVQO91r3vd6xZAhCIUoQhFGEAaz3jGM54ZQK973ete9xpARShCEYpQHEDa1KY2takdQHCBC1zgAh9AAxe4wAUuIEBObWpTm9ogQJjDHOYwhyFA4xnPeMYzIkAucIELXOAiQHnGM57xjCNAwxzmMIc5JEAOc5jDHOYkQFnJSlaykiVApB/96Ec/JkDvda973esmQDnMYQ5zmCdAhCIUoQhFKEDPeMYznvEoQBrPeMYznilAZCUrWclKKkCve93rXvcqQPrRj370oytARShCEYpQLECQfvSjH/0sQNrUpja1qS1AJStZyUpWLkBwgQtc4AIvQLvXve51ry9AAxe4wAUuMEAoQhGKUIQwQE5talOb2jBAc5jDHOYwMUCYwxzmMIcxQL7uda973TFA4xnPeMYzMkAIRShCEYoyQC5wgQtc4DJAU5va1KY2M0B5xjOe8YwzQJ7xjGc84zNAwxzmMIc5NEDpRz/60Y80QA5zmMMc5jRANJ7xjGc8NUBZyUpWspI1QH70ox/96DVApB/96Ec/NkDJSlaykpU2QO91r3vd6zZAFKEIRShCN0A5zGEOc5g3QF/3ute97jdAhCIUoQhFOECqTW1qU5s4QM94xjOe8ThA9KMf/ehHOUAaz3jGM545QD/60Y9+9DlAZCUrWclKOkCKUIQiFKE6QK973ete9zpA1aY2talNO0D60Y9+9KM7QB/96Ec/+jtARShCEYpQPEBqU5va1KY8QJB+9KMf/TxAtalNbWpTPUDa1KY2tak9QAAAAAAAAD5A",
          "dtype": "f8"
         },
         "y": {
          "bdata": "5L/IPJ6Jyzx3Oc48zM/QPB5N0zyesdU8GP7XPPYy2jyqUNw85lfePE5J4DxLJeI8qOzjPPCf5TzeP+c85MzoPPNH6jxzses8DgrtPIZS7jxhi+88N7XwPKTQ8TxG3vI8qN7zPGrS9Dz9ufU8Apb2PNVm9zz5LPg88uj4PAWb+TzLQ/o8fuP6PJd6+zxQCfw8DZD8PBoP/TyZhv08+/b9PFVg/jzzwv486B7/PGt0/zy7w/88aAYAPe4nAD2GRgA9JWIAPeh6AD3MkAA906MAPQy0AD11wQA9FMwAPebTAD3r2AA9J9sAPZTaAD021wA9CNEAPf7HAD0mvAA9bq0APdybAD1mhwA9A3AAPcJVAD2IOAA9XhgAPXjq/zw5nv88BEz/PMDz/jxrlf48AzH+PIDG/TzOVf08+t78PPZh/Dyt3vs8MFX7PHXF+jxnL/o8FJP5PHLw+DxoR/g8Cpj3PEbi9jwcJvY8",
          "dtype": "f4"
         }
        },
        {
         "line": {
          "width": 2
         },
         "mode": "lines",
         "name": "Precipitation 99th Percentile",
         "type": "scatter",
         "x": {
          "bdata": "AAAAAAAAAABZyUpWspLVP1nJSlaykuU/Axe4wAUu8D9ZyUpWspL1P6973ete9/o/Axe4wAUuAEAucIELXOACQFnJSlaykgVAhCIUoQhFCECve93rXvcKQNrUpja1qQ1AAxe4wAUuEECYwxzmMIcRQC5wgQtc4BJAwxzmMIc5FEBZyUpWspIVQO91r3vd6xZAhCIUoQhFGEAaz3jGM54ZQK973ete9xpARShCEYpQHEDa1KY2takdQHCBC1zgAh9AAxe4wAUuIEBObWpTm9ogQJjDHOYwhyFA4xnPeMYzIkAucIELXOAiQHnGM57xjCNAwxzmMIc5JEAOc5jDHOYkQFnJSlaykiVApB/96Ec/JkDvda973esmQDnMYQ5zmCdAhCIUoQhFKEDPeMYznvEoQBrPeMYznilAZCUrWclKKkCve93rXvcqQPrRj370oytARShCEYpQLECQfvSjH/0sQNrUpja1qS1AJStZyUpWLkBwgQtc4AIvQLvXve51ry9AAxe4wAUuMEAoQhGKUIQwQE5talOb2jBAc5jDHOYwMUCYwxzmMIcxQL7uda973TFA4xnPeMYzMkAIRShCEYoyQC5wgQtc4DJAU5va1KY2M0B5xjOe8YwzQJ7xjGc84zNAwxzmMIc5NEDpRz/60Y80QA5zmMMc5jRANJ7xjGc8NUBZyUpWspI1QH70ox/96DVApB/96Ec/NkDJSlaykpU2QO91r3vd6zZAFKEIRShCN0A5zGEOc5g3QF/3ute97jdAhCIUoQhFOECqTW1qU5s4QM94xjOe8ThA9KMf/ehHOUAaz3jGM545QD/60Y9+9DlAZCUrWclKOkCKUIQiFKE6QK973ete9zpA1aY2talNO0D60Y9+9KM7QB/96Ec/+jtARShCEYpQPEBqU5va1KY8QJB+9KMf/TxAtalNbWpTPUDa1KY2tak9QAAAAAAAAD5A",
          "dtype": "f8"
         },
         "y": {
          "bdata": "QZ0EPUlTBT3UCQY9BsEGPax4Bz3rMAg9qukIPdiiCT1nXAo9VRYLPX7QCz3Iigw9LkUNPYL/DT26uQ49snMPPUgtED1c5hA93J4RPaBWEj17DRM9VMMTPQ54FD2FKxU9pd0VPT6OFj01PRc9Z+oXPcOVGD0XPxk9XeYZPWuLGj0vLhs9iM4bPWNsHD2nBx09QqAdPR02Hj0kyR49SVkfPXbmHz2hcCA9wPcgPcZ7IT2T/CE9PHoiPar0Ij3MayM9qd8jPTpQJD14vSQ9ZiclPfeNJT0y8SU9FVEmPaKtJj3aBic9vFwnPUqvJz2Q/ic9ikooPU2TKD3E2Cg9ChspPRRaKT39lSk9vs4pPWIEKj34Nio9dWYqPfCSKj13vCo9COMqPaMGKz1pJys9R0UrPWRgKz2weCs9No4rPQehKz0vsSs9r74rPYbJKz3P0Ss9itcrPb7aKz1z2ys9r9krPXTVKz3Zzis9",
          "dtype": "f4"
         }
        }
       ],
       "layout": {
        "legend": {
         "bgcolor": "rgba(255,255,255,0.7)",
         "bordercolor": "black",
         "borderwidth": 1
        },
        "template": {
         "data": {
          "bar": [
           {
            "error_x": {
             "color": "#2a3f5f"
            },
            "error_y": {
             "color": "#2a3f5f"
            },
            "marker": {
             "line": {
              "color": "#E5ECF6",
              "width": 0.5
             },
             "pattern": {
              "fillmode": "overlay",
              "size": 10,
              "solidity": 0.2
             }
            },
            "type": "bar"
           }
          ],
          "barpolar": [
           {
            "marker": {
             "line": {
              "color": "#E5ECF6",
              "width": 0.5
             },
             "pattern": {
              "fillmode": "overlay",
              "size": 10,
              "solidity": 0.2
             }
            },
            "type": "barpolar"
           }
          ],
          "carpet": [
           {
            "aaxis": {
             "endlinecolor": "#2a3f5f",
             "gridcolor": "white",
             "linecolor": "white",
             "minorgridcolor": "white",
             "startlinecolor": "#2a3f5f"
            },
            "baxis": {
             "endlinecolor": "#2a3f5f",
             "gridcolor": "white",
             "linecolor": "white",
             "minorgridcolor": "white",
             "startlinecolor": "#2a3f5f"
            },
            "type": "carpet"
           }
          ],
          "choropleth": [
           {
            "colorbar": {
             "outlinewidth": 0,
             "ticks": ""
            },
            "type": "choropleth"
           }
          ],
          "contour": [
           {
            "colorbar": {
             "outlinewidth": 0,
             "ticks": ""
            },
            "colorscale": [
             [
              0,
              "#0d0887"
             ],
             [
              0.1111111111111111,
              "#46039f"
             ],
             [
              0.2222222222222222,
              "#7201a8"
             ],
             [
              0.3333333333333333,
              "#9c179e"
             ],
             [
              0.4444444444444444,
              "#bd3786"
             ],
             [
              0.5555555555555556,
              "#d8576b"
             ],
             [
              0.6666666666666666,
              "#ed7953"
             ],
             [
              0.7777777777777778,
              "#fb9f3a"
             ],
             [
              0.8888888888888888,
              "#fdca26"
             ],
             [
              1,
              "#f0f921"
             ]
            ],
            "type": "contour"
           }
          ],
          "contourcarpet": [
           {
            "colorbar": {
             "outlinewidth": 0,
             "ticks": ""
            },
            "type": "contourcarpet"
           }
          ],
          "heatmap": [
           {
            "colorbar": {
             "outlinewidth": 0,
             "ticks": ""
            },
            "colorscale": [
             [
              0,
              "#0d0887"
             ],
             [
              0.1111111111111111,
              "#46039f"
             ],
             [
              0.2222222222222222,
              "#7201a8"
             ],
             [
              0.3333333333333333,
              "#9c179e"
             ],
             [
              0.4444444444444444,
              "#bd3786"
             ],
             [
              0.5555555555555556,
              "#d8576b"
             ],
             [
              0.6666666666666666,
              "#ed7953"
             ],
             [
              0.7777777777777778,
              "#fb9f3a"
             ],
             [
              0.8888888888888888,
              "#fdca26"
             ],
             [
              1,
              "#f0f921"
             ]
            ],
            "type": "heatmap"
           }
          ],
          "histogram": [
           {
            "marker": {
             "pattern": {
              "fillmode": "overlay",
              "size": 10,
              "solidity": 0.2
             }
            },
            "type": "histogram"
           }
          ],
          "histogram2d": [
           {
            "colorbar": {
             "outlinewidth": 0,
             "ticks": ""
            },
            "colorscale": [
             [
              0,
              "#0d0887"
             ],
             [
              0.1111111111111111,
              "#46039f"
             ],
             [
              0.2222222222222222,
              "#7201a8"
             ],
             [
              0.3333333333333333,
              "#9c179e"
             ],
             [
              0.4444444444444444,
              "#bd3786"
             ],
             [
              0.5555555555555556,
              "#d8576b"
             ],
             [
              0.6666666666666666,
              "#ed7953"
             ],
             [
              0.7777777777777778,
              "#fb9f3a"
             ],
             [
              0.8888888888888888,
              "#fdca26"
             ],
             [
              1,
              "#f0f921"
             ]
            ],
            "type": "histogram2d"
           }
          ],
          "histogram2dcontour": [
           {
            "colorbar": {
             "outlinewidth": 0,
             "ticks": ""
            },
            "colorscale": [
             [
              0,
              "#0d0887"
             ],
             [
              0.1111111111111111,
              "#46039f"
             ],
             [
              0.2222222222222222,
              "#7201a8"
             ],
             [
              0.3333333333333333,
              "#9c179e"
             ],
             [
              0.4444444444444444,
              "#bd3786"
             ],
             [
              0.5555555555555556,
              "#d8576b"
             ],
             [
              0.6666666666666666,
              "#ed7953"
             ],
             [
              0.7777777777777778,
              "#fb9f3a"
             ],
             [
              0.8888888888888888,
              "#fdca26"
             ],
             [
              1,
              "#f0f921"
             ]
            ],
            "type": "histogram2dcontour"
           }
          ],
          "mesh3d": [
           {
            "colorbar": {
             "outlinewidth": 0,
             "ticks": ""
            },
            "type": "mesh3d"
           }
          ],
          "parcoords": [
           {
            "line": {
             "colorbar": {
              "outlinewidth": 0,
              "ticks": ""
             }
            },
            "type": "parcoords"
           }
          ],
          "pie": [
           {
            "automargin": true,
            "type": "pie"
           }
          ],
          "scatter": [
           {
            "fillpattern": {
             "fillmode": "overlay",
             "size": 10,
             "solidity": 0.2
            },
            "type": "scatter"
           }
          ],
          "scatter3d": [
           {
            "line": {
             "colorbar": {
              "outlinewidth": 0,
              "ticks": ""
             }
            },
            "marker": {
             "colorbar": {
              "outlinewidth": 0,
              "ticks": ""
             }
            },
            "type": "scatter3d"
           }
          ],
          "scattercarpet": [
           {
            "marker": {
             "colorbar": {
              "outlinewidth": 0,
              "ticks": ""
             }
            },
            "type": "scattercarpet"
           }
          ],
          "scattergeo": [
           {
            "marker": {
             "colorbar": {
              "outlinewidth": 0,
              "ticks": ""
             }
            },
            "type": "scattergeo"
           }
          ],
          "scattergl": [
           {
            "marker": {
             "colorbar": {
              "outlinewidth": 0,
              "ticks": ""
             }
            },
            "type": "scattergl"
           }
          ],
          "scattermap": [
           {
            "marker": {
             "colorbar": {
              "outlinewidth": 0,
              "ticks": ""
             }
            },
            "type": "scattermap"
           }
          ],
          "scattermapbox": [
           {
            "marker": {
             "colorbar": {
              "outlinewidth": 0,
              "ticks": ""
             }
            },
            "type": "scattermapbox"
           }
          ],
          "scatterpolar": [
           {
            "marker": {
             "colorbar": {
              "outlinewidth": 0,
              "ticks": ""
             }
            },
            "type": "scatterpolar"
           }
          ],
          "scatterpolargl": [
           {
            "marker": {
             "colorbar": {
              "outlinewidth": 0,
              "ticks": ""
             }
            },
            "type": "scatterpolargl"
           }
          ],
          "scatterternary": [
           {
            "marker": {
             "colorbar": {
              "outlinewidth": 0,
              "ticks": ""
             }
            },
            "type": "scatterternary"
           }
          ],
          "surface": [
           {
            "colorbar": {
             "outlinewidth": 0,
             "ticks": ""
            },
            "colorscale": [
             [
              0,
              "#0d0887"
             ],
             [
              0.1111111111111111,
              "#46039f"
             ],
             [
              0.2222222222222222,
              "#7201a8"
             ],
             [
              0.3333333333333333,
              "#9c179e"
             ],
             [
              0.4444444444444444,
              "#bd3786"
             ],
             [
              0.5555555555555556,
              "#d8576b"
             ],
             [
              0.6666666666666666,
              "#ed7953"
             ],
             [
              0.7777777777777778,
              "#fb9f3a"
             ],
             [
              0.8888888888888888,
              "#fdca26"
             ],
             [
              1,
              "#f0f921"
             ]
            ],
            "type": "surface"
           }
          ],
          "table": [
           {
            "cells": {
             "fill": {
              "color": "#EBF0F8"
             },
             "line": {
              "color": "white"
             }
            },
            "header": {
             "fill": {
              "color": "#C8D4E3"
             },
             "line": {
              "color": "white"
             }
            },
            "type": "table"
           }
          ]
         },
         "layout": {
          "annotationdefaults": {
           "arrowcolor": "#2a3f5f",
           "arrowhead": 0,
           "arrowwidth": 1
          },
          "autotypenumbers": "strict",
          "coloraxis": {
           "colorbar": {
            "outlinewidth": 0,
            "ticks": ""
           }
          },
          "colorscale": {
           "diverging": [
            [
             0,
             "#8e0152"
            ],
            [
             0.1,
             "#c51b7d"
            ],
            [
             0.2,
             "#de77ae"
            ],
            [
             0.3,
             "#f1b6da"
            ],
            [
             0.4,
             "#fde0ef"
            ],
            [
             0.5,
             "#f7f7f7"
            ],
            [
             0.6,
             "#e6f5d0"
            ],
            [
             0.7,
             "#b8e186"
            ],
            [
             0.8,
             "#7fbc41"
            ],
            [
             0.9,
             "#4d9221"
            ],
            [
             1,
             "#276419"
            ]
           ],
           "sequential": [
            [
             0,
             "#0d0887"
            ],
            [
             0.1111111111111111,
             "#46039f"
            ],
            [
             0.2222222222222222,
             "#7201a8"
            ],
            [
             0.3333333333333333,
             "#9c179e"
            ],
            [
             0.4444444444444444,
             "#bd3786"
            ],
            [
             0.5555555555555556,
             "#d8576b"
            ],
            [
             0.6666666666666666,
             "#ed7953"
            ],
            [
             0.7777777777777778,
             "#fb9f3a"
            ],
            [
             0.8888888888888888,
             "#fdca26"
            ],
            [
             1,
             "#f0f921"
            ]
           ],
           "sequentialminus": [
            [
             0,
             "#0d0887"
            ],
            [
             0.1111111111111111,
             "#46039f"
            ],
            [
             0.2222222222222222,
             "#7201a8"
            ],
            [
             0.3333333333333333,
             "#9c179e"
            ],
            [
             0.4444444444444444,
             "#bd3786"
            ],
            [
             0.5555555555555556,
             "#d8576b"
            ],
            [
             0.6666666666666666,
             "#ed7953"
            ],
            [
             0.7777777777777778,
             "#fb9f3a"
            ],
            [
             0.8888888888888888,
             "#fdca26"
            ],
            [
             1,
             "#f0f921"
            ]
           ]
          },
          "colorway": [
           "#636efa",
           "#EF553B",
           "#00cc96",
           "#ab63fa",
           "#FFA15A",
           "#19d3f3",
           "#FF6692",
           "#B6E880",
           "#FF97FF",
           "#FECB52"
          ],
          "font": {
           "color": "#2a3f5f"
          },
          "geo": {
           "bgcolor": "white",
           "lakecolor": "white",
           "landcolor": "#E5ECF6",
           "showlakes": true,
           "showland": true,
           "subunitcolor": "white"
          },
          "hoverlabel": {
           "align": "left"
          },
          "hovermode": "closest",
          "mapbox": {
           "style": "light"
          },
          "paper_bgcolor": "white",
          "plot_bgcolor": "#E5ECF6",
          "polar": {
           "angularaxis": {
            "gridcolor": "white",
            "linecolor": "white",
            "ticks": ""
           },
           "bgcolor": "#E5ECF6",
           "radialaxis": {
            "gridcolor": "white",
            "linecolor": "white",
            "ticks": ""
           }
          },
          "scene": {
           "xaxis": {
            "backgroundcolor": "#E5ECF6",
            "gridcolor": "white",
            "gridwidth": 2,
            "linecolor": "white",
            "showbackground": true,
            "ticks": "",
            "zerolinecolor": "white"
           },
           "yaxis": {
            "backgroundcolor": "#E5ECF6",
            "gridcolor": "white",
            "gridwidth": 2,
            "linecolor": "white",
            "showbackground": true,
            "ticks": "",
            "zerolinecolor": "white"
           },
           "zaxis": {
            "backgroundcolor": "#E5ECF6",
            "gridcolor": "white",
            "gridwidth": 2,
            "linecolor": "white",
            "showbackground": true,
            "ticks": "",
            "zerolinecolor": "white"
           }
          },
          "shapedefaults": {
           "line": {
            "color": "#2a3f5f"
           }
          },
          "ternary": {
           "aaxis": {
            "gridcolor": "white",
            "linecolor": "white",
            "ticks": ""
           },
           "baxis": {
            "gridcolor": "white",
            "linecolor": "white",
            "ticks": ""
           },
           "bgcolor": "#E5ECF6",
           "caxis": {
            "gridcolor": "white",
            "linecolor": "white",
            "ticks": ""
           }
          },
          "title": {
           "x": 0.05
          },
          "xaxis": {
           "automargin": true,
           "gridcolor": "white",
           "linecolor": "white",
           "ticks": "",
           "title": {
            "standoff": 15
           },
           "zerolinecolor": "white",
           "zerolinewidth": 2
          },
          "yaxis": {
           "automargin": true,
           "gridcolor": "white",
           "linecolor": "white",
           "ticks": "",
           "title": {
            "standoff": 15
           },
           "zerolinecolor": "white",
           "zerolinewidth": 2
          }
         }
        },
        "title": {
         "text": "Growth vs Temperature at 99rd-percentile Precipitation (5435.3 mm)"
        },
        "xaxis": {
         "range": [
          0,
          30
         ],
         "title": {
          "text": "Temperature (°C)"
         }
        },
        "yaxis": {
         "title": {
          "text": "Growth"
         }
        }
       }
      }
     },
     "metadata": {},
     "output_type": "display_data"
    }
   ],
   "source": [
    "\n",
    "\n",
    "\n",
    "# --- load benchmark and model predictions as before ---------------------\n",
    "benchmark_data = pd.read_csv('../data/Benchmark/3d_results_Leirvik.csv')\n",
    "bench_temp   = benchmark_data['temp'].values\n",
    "bench_precip = benchmark_data['precip_value'].values * 1000\n",
    "bench_growth = benchmark_data['avg_prediction'].values\n",
    "\n",
    "\n",
    "def plot_two(percentiles, fixed_value, var_name):\n",
    "    fig2d = go.Figure()\n",
    "\n",
    "    for percentile in percentiles:\n",
    "        \n",
    "        # flatten the precip grid and compute 33rd percentile\n",
    "        fixed_array = np.percentile(np.array(fixed_value.flatten()), q=percentile)\n",
    "\n",
    "        # find the row index in P closest to that precip\n",
    "        # (assuming P is shape (n_precip, n_temp) from meshgrid)\n",
    "        idx = np.argmin(np.abs(fixed_value[:,0] - fixed_array))\n",
    "\n",
    "        # extract the corresponding temperature axis\n",
    "        if var_name == 'temp':\n",
    "            axis = P[idx, :]\n",
    "        else: \n",
    "            axis = T[idx, :]\n",
    "\n",
    "\n",
    "        # extract model and benchmark slices\n",
    "        model_slice = Growth[idx, :]\n",
    "        bench_slice = bench_Z[idx, :]\n",
    "\n",
    "        # --- 2) make the 2D line plot --------------------------------------------\n",
    "        fig2d.add_trace(go.Scatter(\n",
    "                x=axis,\n",
    "                y=model_slice,\n",
    "                mode='lines',\n",
    "                name=f'{var_name} {percentile}th Percentile',\n",
    "                line=dict(width=2)\n",
    "            ))\n",
    "\n",
    "    \n",
    "    fig2d.update_layout(\n",
    "        xaxis_title='Temperature (°C)',\n",
    "        yaxis_title='Growth',\n",
    "        xaxis=dict(range=[0, 30]),\n",
    "        legend=dict(\n",
    "            bgcolor='rgba(255,255,255,0.7)',\n",
    "            bordercolor='black',\n",
    "            borderwidth=1\n",
    "        )\n",
    "    )\n",
    "\n",
    "    fig2d.show()\n",
    "\n",
    "\n",
    "\n",
    "\n",
    "percentiles= range(0, 101, 33)  # 0th, 33rd, 66th, and 100th percentiles\n",
    "# --- 3) (optional) save as html ------------------------------------------\n",
    "\n",
    "# pio.write_html(fig2d, f'../results/images/2D_slice_Leirvik_comparison_{percentile}.html', auto_open=True)\n"
   ]
  },
  {
   "cell_type": "markdown",
   "id": "341ccd30",
   "metadata": {},
   "source": [
    "## Appendix"
   ]
  },
  {
   "cell_type": "code",
   "execution_count": null,
   "id": "d70b3cf4",
   "metadata": {},
   "outputs": [],
   "source": [
    "\n",
    "\n",
    "\n",
    "#visualise the model: \n",
    "\n",
    "print(model.alpha)"
   ]
  },
  {
   "cell_type": "code",
   "execution_count": null,
   "id": "763fa21f",
   "metadata": {},
   "outputs": [],
   "source": [
    "np=model.beta.to_numpy()\n",
    "\n",
    "last_siz=np[:58]\n",
    "print('Last 6 sizes:', last_siz)"
   ]
  },
  {
   "cell_type": "markdown",
   "id": "91341f49",
   "metadata": {},
   "source": [
    "## 2d surfaces\n"
   ]
  },
  {
   "cell_type": "code",
   "execution_count": null,
   "id": "6b4284f1",
   "metadata": {},
   "outputs": [],
   "source": [
    "import numpy as np\n",
    "import plotly.graph_objects as go\n",
    "import plotly.express as px  # for a built‑in qualitative palette\n",
    "\n",
    "# 1) compute the 90th‑percentile precip level\n",
    "percentile = 50\n",
    "p = np.percentile(data['PrecipPopWeight'], percentile)\n",
    "\n",
    "# 2) tolerance window = 0.1 % of p\n",
    "tol = 0.005 * p\n",
    "\n",
    "# 3) slice all obs around that precip band\n",
    "obs_slice = data[np.abs(data['PrecipPopWeight'] - p) <= tol].copy()\n",
    "\n",
    "# 4) (no need for top‑3 any more)\n",
    "\n",
    "# 5) base model trace\n",
    "fig2d = go.Figure([\n",
    "    go.Scatter(\n",
    "        x=temp_axis,\n",
    "        y=model_slice,\n",
    "        mode='lines+markers',\n",
    "        name=f'Model @ P≈{p:.1f} mm',\n",
    "        line=dict(width=2, color='black'),\n",
    "        marker=dict(size=6)\n",
    "    )\n",
    "])\n",
    "\n",
    "# 6) pick a color palette and assign one color per country\n",
    "countries = obs_slice['CountryName'].unique()\n",
    "palette   = px.colors.qualitative.Plotly  # 10 distinct colors\n",
    "color_map = {c: palette[i % len(palette)] for i,c in enumerate(countries)}\n",
    "\n",
    "# 7) plot all observations, colored by country\n",
    "for country in countries:\n",
    "    df_ctry = obs_slice[obs_slice['CountryName'] == country]\n",
    "    fig2d.add_trace(\n",
    "        go.Scatter(\n",
    "            x=df_ctry['TempPopWeight'],\n",
    "            y=df_ctry['GrowthWDI'],\n",
    "            mode='markers',\n",
    "            name=country,\n",
    "            marker=dict(\n",
    "                size=8,\n",
    "                color=color_map[country],\n",
    "                symbol='circle'\n",
    "            )\n",
    "        )\n",
    "    )\n",
    "\n",
    "# 8) finalize layout\n",
    "fig2d.update_layout(\n",
    "    title=f'Growth vs Temperature at {percentile}th‑percentile Precipitation ({p:.1f} mm)',\n",
    "    xaxis_title='Temperature (°C)',\n",
    "    yaxis_title='Growth',\n",
    "    xaxis=dict(range=[0, 30]),\n",
    "    legend=dict(\n",
    "        bgcolor='rgba(255,255,255,0.7)',\n",
    "        bordercolor='black',\n",
    "        borderwidth=1\n",
    "    )\n",
    ")\n",
    "\n",
    "fig2d.show()\n"
   ]
  },
  {
   "cell_type": "markdown",
   "id": "9fa1189c",
   "metadata": {},
   "source": [
    "## Model confidence plot - based on 10 best cv models"
   ]
  },
  {
   "cell_type": "code",
   "execution_count": null,
   "id": "b2101fc3",
   "metadata": {},
   "outputs": [],
   "source": [
    "\n",
    "results = dict(np.load(f'../results/metrics/15042025/results.npy', allow_pickle=True).item())\n",
    "\n",
    "# Sort the keys (node configurations) by performance metric and select the top 10.\n",
    "n_models = 10\n",
    "date_of_run = '15042025'\n",
    "ref_model = (8,2,2)  # Reference model configuration\n",
    "top_models = sorted(results, key=lambda node: results[node])[:n_models]\n",
    "\n",
    "\n",
    "# Initialize a list to store the prediction surfaces for each model.\n",
    "prediction_surfaces = []\n",
    "time_fixed_effects=[]\n",
    "country_fixed_effects=[]\n",
    "\n",
    "for node in top_models:\n",
    "    \n",
    "        # Instantiate your model with the given node configuration.\n",
    "    model_instance = Model(nodes=node, x_train=x_train, y_train=growth, dropout=0, formulation=\"global\")\n",
    "    weight_file = f'../results/Model Parameters/CV/{date_of_run}/{str(node)}.weights.h5'\n",
    "    model_instance.load_params(weight_file)  # Load the model weights\n",
    "    model_instance.fit(lr=lr, min_delta=min_delta, patience=patience, verbose=2)\n",
    "    \n",
    "    model_instance.in_sample_predictions\n",
    "    \n",
    "    # Use the model to predict on the standardized (T,P) grid.\n",
    "    growth_pred_flat = model_instance.model_visual.predict(pred_input)\n",
    "    growth_pred_flat = np.reshape(growth_pred_flat, (-1,))   # shape: (900,)\n",
    "    pred = growth_pred_flat.reshape(T.shape)  # reshape to (30, 30)\n",
    "    \n",
    "    prediction_surfaces.append(pred)\n",
    "    time_fixed_effects.append(model_instance.beta)\n",
    "    country_fixed_effects.append(model_instance.alpha)\n",
    "\n",
    "\n",
    "# Convert the list into a NumPy array: shape (10, 30, 30)\n",
    "prediction_surfaces = np.array(prediction_surfaces)\n",
    "\n",
    "# Calculate the pointwise mean and standard deviation across the 10 models.\n",
    "ensemble_mean = np.mean(prediction_surfaces, axis=0)\n",
    "ensemble_std = np.std(prediction_surfaces, axis=0)\n",
    "\n",
    "# Select the Chosen Model (e.g. configuration (8,2,2))\n",
    "chosen_index = top_models.index(ref_model)\n",
    "chosen_surface = prediction_surfaces[chosen_index]\n",
    "\n",
    "model_confidence_plot(ref_model, chosen_surface, ensemble_std=ensemble_std, T=T, P=P, save_as_html=False)\n",
    "\n"
   ]
  },
  {
   "cell_type": "markdown",
   "id": "b6cf04fd",
   "metadata": {},
   "source": [
    "## plotting the fixed effects from the model"
   ]
  },
  {
   "cell_type": "code",
   "execution_count": null,
   "id": "e3c4fe8f",
   "metadata": {},
   "outputs": [],
   "source": [
    "\n",
    "# Squeeze to shape (10, num_countries)\n",
    "country_FE = np.array(country_fixed_effects).squeeze(axis=1)\n",
    "\n",
    "# Number of models\n",
    "n_models = country_FE.shape[0]\n",
    "\n",
    "# Compute mean & sample std across the 10 models (result shape: num_countries)\n",
    "country_FE_mean = np.mean(country_FE, axis=0).squeeze()\n",
    "country_FE_std  = np.std(country_FE,  axis=0, ddof=1).squeeze()\n",
    "\n",
    "# Standard error and 95% CI\n",
    "se    = country_FE_std / np.sqrt(n_models)\n",
    "t_val = stats.t.ppf(0.975, df=n_models - 1)\n",
    "ci    = t_val * se\n",
    "\n",
    "\n",
    "# X-axis indices \n",
    "country_indices = np.arange(country_FE_mean.shape[0])\n",
    "\n",
    "plt.figure(figsize=(12, 6))\n",
    "plt.plot(x, country_FE_mean, label='Mean')\n",
    "\n",
    "plt.fill_between(\n",
    "    country_indices,\n",
    "    country_FE_mean - ci,\n",
    "    country_FE_mean + ci,\n",
    "    alpha=0.3,\n",
    "    label='95% CI'\n",
    ")\n",
    "plt.title('Mean and 95% Confidence Interval of Country Fixed Effects')\n",
    "plt.xlabel('Country Index')\n",
    "plt.ylabel('Country Fixed Effect')\n",
    "plt.legend()\n",
    "plt.grid(True)\n",
    "plt.tight_layout()\n",
    "plt.show()\n"
   ]
  }
 ],
 "metadata": {
  "kernelspec": {
   "display_name": ".venv (3.12.8)",
   "language": "python",
   "name": "python3"
  },
  "language_info": {
   "codemirror_mode": {
    "name": "ipython",
    "version": 3
   },
   "file_extension": ".py",
   "mimetype": "text/x-python",
   "name": "python",
   "nbconvert_exporter": "python",
   "pygments_lexer": "ipython3",
   "version": "3.12.8"
  }
 },
 "nbformat": 4,
 "nbformat_minor": 5
}
