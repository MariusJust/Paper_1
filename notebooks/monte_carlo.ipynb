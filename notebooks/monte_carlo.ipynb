{
 "cells": [
  {
   "cell_type": "markdown",
   "id": "f35eeddc",
   "metadata": {},
   "source": [
    "<div style=\"text-align: center; padding-top: 30px; padding-bottom: 10px;\">\n",
    "\n",
    "<h1 style=\"font-size: 2.8em; font-weight: 600; margin-bottom: 0.2em;\">\n",
    "Monte Carlo simulations\n",
    "</h1>\n",
    "\n",
    "<p style=\"font-size: 1.2em; color: gray; font-style: italic; margin-top: 0;\">\n",
    "This notebook shows the results from the simulation study\n",
    "</p>\n",
    "\n",
    "</div>\n"
   ]
  },
  {
   "cell_type": "markdown",
   "id": "2127d73c",
   "metadata": {},
   "source": [
    "## 1. Loading Packages and data\n"
   ]
  },
  {
   "cell_type": "code",
   "execution_count": 2,
   "id": "5995124b",
   "metadata": {},
   "outputs": [
    {
     "name": "stderr",
     "output_type": "stream",
     "text": [
      "2025-09-03 06:53:33.030172: I tensorflow/core/util/port.cc:153] oneDNN custom operations are on. You may see slightly different numerical results due to floating-point round-off errors from different computation orders. To turn them off, set the environment variable `TF_ENABLE_ONEDNN_OPTS=0`.\n",
      "2025-09-03 06:53:33.618326: I external/local_xla/xla/tsl/cuda/cudart_stub.cc:32] Could not find cuda drivers on your machine, GPU will not be used.\n",
      "2025-09-03 06:53:40.439393: I external/local_xla/xla/tsl/cuda/cudart_stub.cc:32] Could not find cuda drivers on your machine, GPU will not be used.\n",
      "2025-09-03 06:53:45.539244: E external/local_xla/xla/stream_executor/cuda/cuda_fft.cc:477] Unable to register cuFFT factory: Attempting to register factory for plugin cuFFT when one has already been registered\n",
      "WARNING: All log messages before absl::InitializeLog() is called are written to STDERR\n",
      "E0000 00:00:1756882429.629741     882 cuda_dnn.cc:8310] Unable to register cuDNN factory: Attempting to register factory for plugin cuDNN when one has already been registered\n",
      "E0000 00:00:1756882430.766669     882 cuda_blas.cc:1418] Unable to register cuBLAS factory: Attempting to register factory for plugin cuBLAS when one has already been registered\n",
      "2025-09-03 06:54:01.365684: I tensorflow/core/platform/cpu_feature_guard.cc:210] This TensorFlow binary is optimized to use available CPU instructions in performance-critical operations.\n",
      "To enable the following instructions: AVX2 AVX_VNNI FMA, in other operations, rebuild TensorFlow with the appropriate compiler flags.\n"
     ]
    }
   ],
   "source": [
    "from simulations.simulation_functions import simulate, Surface\n",
    "import numpy as np\n",
    "import plotly.graph_objects as go\n",
    "from utils import create_pred_input"
   ]
  },
  {
   "cell_type": "code",
   "execution_count": 3,
   "id": "ae1fb475",
   "metadata": {},
   "outputs": [],
   "source": [
    "\n",
    "def calculate_surface(specification, element, date, model):\n",
    "    data= simulate(seed=0, n_countries=196, n_years=63, specification=specification, add_noise=True, sample_data=True, dynamic=False)\n",
    "\n",
    "\n",
    "    _, T, P = create_pred_input(\n",
    "        True,\n",
    "        mean_T=np.mean(data[\"temperature\"]),\n",
    "        std_T=np.std(data[\"temperature\"]),\n",
    "        mean_P=np.mean(data[\"precipitation\"]),\n",
    "        std_P=np.std(data[\"precipitation\"])\n",
    "    )\n",
    "\n",
    "    surface=np.load(f\"/workspaces/Paper_1/results/MonteCarlo/{specification}/{model}/{date}/surfaces.np.npy\")\n",
    "    # # # surface=np.load(f\"/workspaces/Paper_1/outputs/2025-08-14/12-56-44/results/MonteCarlo/q_Leirvik/2025-08-14/_avg_surface.np.npy\")\n",
    "    model_values = np.mean(surface, axis=0).reshape(T.shape)\n",
    "    benchmark = Surface(T.flatten(), P.flatten(), specification=specification, dynamic=False, time_periods=63).reshape(T.shape)\n",
    "\n",
    "    \n",
    "    if element == 'model':\n",
    "    \n",
    "        surf = go.Surface(\n",
    "            x=T, y=P, z=model_values,\n",
    "            colorscale='Plasma',\n",
    "            opacity=0.85,\n",
    "            showscale=False,\n",
    "            name=f'Model'\n",
    "        )\n",
    "\n",
    "    elif element == 'benchmark':\n",
    "        surf= go.Surface(\n",
    "            x=T, y=P, z=benchmark,\n",
    "            colorscale='Plasma',\n",
    "            opacity=0.85,\n",
    "            showscale=False,\n",
    "            name=f'Benchmark'\n",
    "        )\n",
    "    \n",
    "    else: \n",
    "        bias = np.array(model_values - benchmark)\n",
    "\n",
    "        zmin, zmax = 0, 1\n",
    "        ticks = np.linspace(zmin, zmax, 9)           # 9 tick positions\n",
    "        ticktext = [f\"{t:.1f}\" for t in ticks]       # optional: nicely formatted labels\n",
    "\n",
    "        surf = go.Heatmap(\n",
    "            x=P[:, 0], y=T[0, :], z=np.sqrt(np.square(bias.T)),\n",
    "            colorscale='ylorrd', zmin=zmin, zmax=zmax,\n",
    "            showscale=True,\n",
    "            colorbar=dict(\n",
    "                title='Bias',\n",
    "                thickness=15,\n",
    "                len=1,\n",
    "                tickmode='array',\n",
    "                tickvals=ticks,\n",
    "                ticktext=ticktext,\n",
    "            )\n",
    "        )\n",
    "    fig=create_figure(element, surf)\n",
    "    \n",
    "  \n",
    "    if element==\"bias\":\n",
    "        return fig, bias\n",
    "    else:\n",
    "        return fig\n",
    "\n",
    "\n",
    "def create_figure(element, plot_data):\n",
    "    \n",
    "    if element==\"model\" or element==\"benchmark\":\n",
    "        fig = go.Figure(data=plot_data)\n",
    "        fig.update_layout(\n",
    "               autosize=False,\n",
    "        width=500,\n",
    "        height=600,\n",
    "        margin=dict(\n",
    "            l=50,\n",
    "            r=50,\n",
    "            b=100,\n",
    "            t=100,\n",
    "            pad=4,\n",
    "        ),\n",
    "\n",
    "            scene=dict(\n",
    "                xaxis_title='Temperature (°C)',\n",
    "                yaxis_title='Precipitation (m)',\n",
    "                zaxis_title='Δ ln(Growth)',\n",
    "                camera=dict(eye=dict(x=2.35, y=0.006, z=0.4))\n",
    "                \n",
    "            ),\n",
    "            \n",
    "            legend=dict(\n",
    "                bgcolor='rgba(255,255,255,0.7)',\n",
    "                bordercolor='black',\n",
    "                borderwidth=1\n",
    "            ),\n",
    "            font=dict(\n",
    "            size=10\n",
    "        )\n",
    "        )\n",
    "        \n",
    "    else: \n",
    "        layout = go.Layout(\n",
    "        yaxis=dict(autorange='reversed'),\n",
    "        font=dict(\n",
    "            size=16\n",
    "        ))\n",
    "        fig = go.Figure(data=plot_data, layout=layout)\n",
    "        fig.update_layout(\n",
    "        xaxis=dict(title='Precipitation (m)'),\n",
    "        yaxis=dict(title='Temperature (°C)')\n",
    "    )\n",
    "\n",
    "\n",
    "\n",
    "    return fig\n"
   ]
  },
  {
   "cell_type": "code",
   "execution_count": 16,
   "id": "df3a5798",
   "metadata": {},
   "outputs": [
    {
     "data": {
      "application/vnd.plotly.v1+json": {
       "config": {
        "plotlyServerURL": "https://plot.ly"
       },
       "data": [
        {
         "colorbar": {
          "len": 1,
          "thickness": 15,
          "tickmode": "array",
          "ticktext": [
           "0.0",
           "0.1",
           "0.2",
           "0.4",
           "0.5",
           "0.6",
           "0.8",
           "0.9",
           "1.0"
          ],
          "tickvals": {
           "bdata": "AAAAAAAAAAAAAAAAAADAPwAAAAAAANA/AAAAAAAA2D8AAAAAAADgPwAAAAAAAOQ/AAAAAAAA6D8AAAAAAADsPwAAAAAAAPA/",
           "dtype": "f8"
          },
          "title": {
           "text": "Bias"
          }
         },
         "colorscale": [
          [
           0,
           "rgb(255,255,204)"
          ],
          [
           0.125,
           "rgb(255,237,160)"
          ],
          [
           0.25,
           "rgb(254,217,118)"
          ],
          [
           0.375,
           "rgb(254,178,76)"
          ],
          [
           0.5,
           "rgb(253,141,60)"
          ],
          [
           0.625,
           "rgb(252,78,42)"
          ],
          [
           0.75,
           "rgb(227,26,28)"
          ],
          [
           0.875,
           "rgb(189,0,38)"
          ],
          [
           1,
           "rgb(128,0,38)"
          ]
         ],
         "showscale": true,
         "type": "heatmap",
         "x": {
          "bdata": "+n5qvHSTiD9UP0C4tauyP2SXeWx+IsE/Hw/T/CHvyD9sQ5bG4l3QP0r/wo40RNQ/J7vvVoYq2D8Edxwf2BDcP+EySecp998/X/e6173u4T9OVdG75uHjPzyz558P1eU/KxH+gzjI5z8ZbxRoYbvpPwjNKkyKrus/9ipBMLOh7T/liFcU3JTvP2rzNnwCxPA/YSJC7pa98T9YUU1gK7fyP1CAWNK/sPM/R69jRFSq9D8+3m626KP1PzUNeih9nfY/LTyFmhGX9z8ka5AMppD4Pxuam346ivk/E8mm8M6D+j8K+LFiY337PwEnvdT3dvw/+FXIRoxw/T/whNO4IGr+P+ez3iq1Y/8/b/F0zqQuAEDriHoHb6sAQGYggEA5KAFA4reFeQOlAUBeT4uyzSECQNnmkOuXngJAVX6WJGIbA0DRFZxdLJgDQEytoZb2FARAyESnz8CRBEBE3KwIiw4FQL9zskFViwVAOwu4eh8IBkC2or2z6YQGQDI6w+yzAQdArtHIJX5+B0Apac5eSPsHQKUA1JcSeAhAIZjZ0Nz0CECcL98Jp3EJQBjH5EJx7glAlF7qeztrCkAP9u+0BegKQIuN9e3PZAtAByX7JprhC0CCvABgZF4MQP5TBpku2wxAeesL0vhXDUD1ghELw9QNQHEaF0SNUQ5A7LEcfVfODkBoSSK2IUsPQOTgJ+/rxw9AL7wWFFsiEEDth5kwwGAQQKtTHE0lnxBAaR+faYrdEEAm6yGG7xsRQOS2pKJUWhFAooInv7mYEUBgTqrbHtcRQB4aLfiDFRJA3OWvFOlTEkCZsTIxTpISQFd9tU2z0BJAFUk4ahgPE0DTFLuGfU0TQJHgPaPiixNATqzAv0fKE0AMeEPcrAgUQMpDxvgRRxRAiA9JFXeFFEBG28sx3MMUQASnTk5BAhVAwXLRaqZAFUB/PlSHC38VQD0K16NwvRVA",
          "dtype": "f8"
         },
         "y": {
          "bdata": "AAAAAAAAAABZyUpWspLVP1nJSlaykuU/Axe4wAUu8D9ZyUpWspL1P6973ete9/o/Axe4wAUuAEAucIELXOACQFnJSlaykgVAhCIUoQhFCECve93rXvcKQNrUpja1qQ1AAxe4wAUuEECYwxzmMIcRQC5wgQtc4BJAwxzmMIc5FEBZyUpWspIVQO91r3vd6xZAhCIUoQhFGEAaz3jGM54ZQK973ete9xpARShCEYpQHEDa1KY2takdQHCBC1zgAh9AAxe4wAUuIEBObWpTm9ogQJjDHOYwhyFA4xnPeMYzIkAucIELXOAiQHnGM57xjCNAwxzmMIc5JEAOc5jDHOYkQFnJSlaykiVApB/96Ec/JkDvda973esmQDnMYQ5zmCdAhCIUoQhFKEDPeMYznvEoQBrPeMYznilAZCUrWclKKkCve93rXvcqQPrRj370oytARShCEYpQLECQfvSjH/0sQNrUpja1qS1AJStZyUpWLkBwgQtc4AIvQLvXve51ry9AAxe4wAUuMEAoQhGKUIQwQE5talOb2jBAc5jDHOYwMUCYwxzmMIcxQL7uda973TFA4xnPeMYzMkAIRShCEYoyQC5wgQtc4DJAU5va1KY2M0B5xjOe8YwzQJ7xjGc84zNAwxzmMIc5NEDpRz/60Y80QA5zmMMc5jRANJ7xjGc8NUBZyUpWspI1QH70ox/96DVApB/96Ec/NkDJSlaykpU2QO91r3vd6zZAFKEIRShCN0A5zGEOc5g3QF/3ute97jdAhCIUoQhFOECqTW1qU5s4QM94xjOe8ThA9KMf/ehHOUAaz3jGM545QD/60Y9+9DlAZCUrWclKOkCKUIQiFKE6QK973ete9zpA1aY2talNO0D60Y9+9KM7QB/96Ec/+jtARShCEYpQPEBqU5va1KY8QJB+9KMf/TxAtalNbWpTPUDa1KY2tak9QAAAAAAAAD5A",
          "dtype": "f8"
         },
         "z": {
          "bdata": "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",
          "dtype": "f8",
          "shape": "90, 90"
         },
         "zmax": 1,
         "zmin": 0
        }
       ],
       "layout": {
        "font": {
         "size": 16
        },
        "template": {
         "data": {
          "bar": [
           {
            "error_x": {
             "color": "#2a3f5f"
            },
            "error_y": {
             "color": "#2a3f5f"
            },
            "marker": {
             "line": {
              "color": "#E5ECF6",
              "width": 0.5
             },
             "pattern": {
              "fillmode": "overlay",
              "size": 10,
              "solidity": 0.2
             }
            },
            "type": "bar"
           }
          ],
          "barpolar": [
           {
            "marker": {
             "line": {
              "color": "#E5ECF6",
              "width": 0.5
             },
             "pattern": {
              "fillmode": "overlay",
              "size": 10,
              "solidity": 0.2
             }
            },
            "type": "barpolar"
           }
          ],
          "carpet": [
           {
            "aaxis": {
             "endlinecolor": "#2a3f5f",
             "gridcolor": "white",
             "linecolor": "white",
             "minorgridcolor": "white",
             "startlinecolor": "#2a3f5f"
            },
            "baxis": {
             "endlinecolor": "#2a3f5f",
             "gridcolor": "white",
             "linecolor": "white",
             "minorgridcolor": "white",
             "startlinecolor": "#2a3f5f"
            },
            "type": "carpet"
           }
          ],
          "choropleth": [
           {
            "colorbar": {
             "outlinewidth": 0,
             "ticks": ""
            },
            "type": "choropleth"
           }
          ],
          "contour": [
           {
            "colorbar": {
             "outlinewidth": 0,
             "ticks": ""
            },
            "colorscale": [
             [
              0,
              "#0d0887"
             ],
             [
              0.1111111111111111,
              "#46039f"
             ],
             [
              0.2222222222222222,
              "#7201a8"
             ],
             [
              0.3333333333333333,
              "#9c179e"
             ],
             [
              0.4444444444444444,
              "#bd3786"
             ],
             [
              0.5555555555555556,
              "#d8576b"
             ],
             [
              0.6666666666666666,
              "#ed7953"
             ],
             [
              0.7777777777777778,
              "#fb9f3a"
             ],
             [
              0.8888888888888888,
              "#fdca26"
             ],
             [
              1,
              "#f0f921"
             ]
            ],
            "type": "contour"
           }
          ],
          "contourcarpet": [
           {
            "colorbar": {
             "outlinewidth": 0,
             "ticks": ""
            },
            "type": "contourcarpet"
           }
          ],
          "heatmap": [
           {
            "colorbar": {
             "outlinewidth": 0,
             "ticks": ""
            },
            "colorscale": [
             [
              0,
              "#0d0887"
             ],
             [
              0.1111111111111111,
              "#46039f"
             ],
             [
              0.2222222222222222,
              "#7201a8"
             ],
             [
              0.3333333333333333,
              "#9c179e"
             ],
             [
              0.4444444444444444,
              "#bd3786"
             ],
             [
              0.5555555555555556,
              "#d8576b"
             ],
             [
              0.6666666666666666,
              "#ed7953"
             ],
             [
              0.7777777777777778,
              "#fb9f3a"
             ],
             [
              0.8888888888888888,
              "#fdca26"
             ],
             [
              1,
              "#f0f921"
             ]
            ],
            "type": "heatmap"
           }
          ],
          "histogram": [
           {
            "marker": {
             "pattern": {
              "fillmode": "overlay",
              "size": 10,
              "solidity": 0.2
             }
            },
            "type": "histogram"
           }
          ],
          "histogram2d": [
           {
            "colorbar": {
             "outlinewidth": 0,
             "ticks": ""
            },
            "colorscale": [
             [
              0,
              "#0d0887"
             ],
             [
              0.1111111111111111,
              "#46039f"
             ],
             [
              0.2222222222222222,
              "#7201a8"
             ],
             [
              0.3333333333333333,
              "#9c179e"
             ],
             [
              0.4444444444444444,
              "#bd3786"
             ],
             [
              0.5555555555555556,
              "#d8576b"
             ],
             [
              0.6666666666666666,
              "#ed7953"
             ],
             [
              0.7777777777777778,
              "#fb9f3a"
             ],
             [
              0.8888888888888888,
              "#fdca26"
             ],
             [
              1,
              "#f0f921"
             ]
            ],
            "type": "histogram2d"
           }
          ],
          "histogram2dcontour": [
           {
            "colorbar": {
             "outlinewidth": 0,
             "ticks": ""
            },
            "colorscale": [
             [
              0,
              "#0d0887"
             ],
             [
              0.1111111111111111,
              "#46039f"
             ],
             [
              0.2222222222222222,
              "#7201a8"
             ],
             [
              0.3333333333333333,
              "#9c179e"
             ],
             [
              0.4444444444444444,
              "#bd3786"
             ],
             [
              0.5555555555555556,
              "#d8576b"
             ],
             [
              0.6666666666666666,
              "#ed7953"
             ],
             [
              0.7777777777777778,
              "#fb9f3a"
             ],
             [
              0.8888888888888888,
              "#fdca26"
             ],
             [
              1,
              "#f0f921"
             ]
            ],
            "type": "histogram2dcontour"
           }
          ],
          "mesh3d": [
           {
            "colorbar": {
             "outlinewidth": 0,
             "ticks": ""
            },
            "type": "mesh3d"
           }
          ],
          "parcoords": [
           {
            "line": {
             "colorbar": {
              "outlinewidth": 0,
              "ticks": ""
             }
            },
            "type": "parcoords"
           }
          ],
          "pie": [
           {
            "automargin": true,
            "type": "pie"
           }
          ],
          "scatter": [
           {
            "fillpattern": {
             "fillmode": "overlay",
             "size": 10,
             "solidity": 0.2
            },
            "type": "scatter"
           }
          ],
          "scatter3d": [
           {
            "line": {
             "colorbar": {
              "outlinewidth": 0,
              "ticks": ""
             }
            },
            "marker": {
             "colorbar": {
              "outlinewidth": 0,
              "ticks": ""
             }
            },
            "type": "scatter3d"
           }
          ],
          "scattercarpet": [
           {
            "marker": {
             "colorbar": {
              "outlinewidth": 0,
              "ticks": ""
             }
            },
            "type": "scattercarpet"
           }
          ],
          "scattergeo": [
           {
            "marker": {
             "colorbar": {
              "outlinewidth": 0,
              "ticks": ""
             }
            },
            "type": "scattergeo"
           }
          ],
          "scattergl": [
           {
            "marker": {
             "colorbar": {
              "outlinewidth": 0,
              "ticks": ""
             }
            },
            "type": "scattergl"
           }
          ],
          "scattermap": [
           {
            "marker": {
             "colorbar": {
              "outlinewidth": 0,
              "ticks": ""
             }
            },
            "type": "scattermap"
           }
          ],
          "scattermapbox": [
           {
            "marker": {
             "colorbar": {
              "outlinewidth": 0,
              "ticks": ""
             }
            },
            "type": "scattermapbox"
           }
          ],
          "scatterpolar": [
           {
            "marker": {
             "colorbar": {
              "outlinewidth": 0,
              "ticks": ""
             }
            },
            "type": "scatterpolar"
           }
          ],
          "scatterpolargl": [
           {
            "marker": {
             "colorbar": {
              "outlinewidth": 0,
              "ticks": ""
             }
            },
            "type": "scatterpolargl"
           }
          ],
          "scatterternary": [
           {
            "marker": {
             "colorbar": {
              "outlinewidth": 0,
              "ticks": ""
             }
            },
            "type": "scatterternary"
           }
          ],
          "surface": [
           {
            "colorbar": {
             "outlinewidth": 0,
             "ticks": ""
            },
            "colorscale": [
             [
              0,
              "#0d0887"
             ],
             [
              0.1111111111111111,
              "#46039f"
             ],
             [
              0.2222222222222222,
              "#7201a8"
             ],
             [
              0.3333333333333333,
              "#9c179e"
             ],
             [
              0.4444444444444444,
              "#bd3786"
             ],
             [
              0.5555555555555556,
              "#d8576b"
             ],
             [
              0.6666666666666666,
              "#ed7953"
             ],
             [
              0.7777777777777778,
              "#fb9f3a"
             ],
             [
              0.8888888888888888,
              "#fdca26"
             ],
             [
              1,
              "#f0f921"
             ]
            ],
            "type": "surface"
           }
          ],
          "table": [
           {
            "cells": {
             "fill": {
              "color": "#EBF0F8"
             },
             "line": {
              "color": "white"
             }
            },
            "header": {
             "fill": {
              "color": "#C8D4E3"
             },
             "line": {
              "color": "white"
             }
            },
            "type": "table"
           }
          ]
         },
         "layout": {
          "annotationdefaults": {
           "arrowcolor": "#2a3f5f",
           "arrowhead": 0,
           "arrowwidth": 1
          },
          "autotypenumbers": "strict",
          "coloraxis": {
           "colorbar": {
            "outlinewidth": 0,
            "ticks": ""
           }
          },
          "colorscale": {
           "diverging": [
            [
             0,
             "#8e0152"
            ],
            [
             0.1,
             "#c51b7d"
            ],
            [
             0.2,
             "#de77ae"
            ],
            [
             0.3,
             "#f1b6da"
            ],
            [
             0.4,
             "#fde0ef"
            ],
            [
             0.5,
             "#f7f7f7"
            ],
            [
             0.6,
             "#e6f5d0"
            ],
            [
             0.7,
             "#b8e186"
            ],
            [
             0.8,
             "#7fbc41"
            ],
            [
             0.9,
             "#4d9221"
            ],
            [
             1,
             "#276419"
            ]
           ],
           "sequential": [
            [
             0,
             "#0d0887"
            ],
            [
             0.1111111111111111,
             "#46039f"
            ],
            [
             0.2222222222222222,
             "#7201a8"
            ],
            [
             0.3333333333333333,
             "#9c179e"
            ],
            [
             0.4444444444444444,
             "#bd3786"
            ],
            [
             0.5555555555555556,
             "#d8576b"
            ],
            [
             0.6666666666666666,
             "#ed7953"
            ],
            [
             0.7777777777777778,
             "#fb9f3a"
            ],
            [
             0.8888888888888888,
             "#fdca26"
            ],
            [
             1,
             "#f0f921"
            ]
           ],
           "sequentialminus": [
            [
             0,
             "#0d0887"
            ],
            [
             0.1111111111111111,
             "#46039f"
            ],
            [
             0.2222222222222222,
             "#7201a8"
            ],
            [
             0.3333333333333333,
             "#9c179e"
            ],
            [
             0.4444444444444444,
             "#bd3786"
            ],
            [
             0.5555555555555556,
             "#d8576b"
            ],
            [
             0.6666666666666666,
             "#ed7953"
            ],
            [
             0.7777777777777778,
             "#fb9f3a"
            ],
            [
             0.8888888888888888,
             "#fdca26"
            ],
            [
             1,
             "#f0f921"
            ]
           ]
          },
          "colorway": [
           "#636efa",
           "#EF553B",
           "#00cc96",
           "#ab63fa",
           "#FFA15A",
           "#19d3f3",
           "#FF6692",
           "#B6E880",
           "#FF97FF",
           "#FECB52"
          ],
          "font": {
           "color": "#2a3f5f"
          },
          "geo": {
           "bgcolor": "white",
           "lakecolor": "white",
           "landcolor": "#E5ECF6",
           "showlakes": true,
           "showland": true,
           "subunitcolor": "white"
          },
          "hoverlabel": {
           "align": "left"
          },
          "hovermode": "closest",
          "mapbox": {
           "style": "light"
          },
          "paper_bgcolor": "white",
          "plot_bgcolor": "#E5ECF6",
          "polar": {
           "angularaxis": {
            "gridcolor": "white",
            "linecolor": "white",
            "ticks": ""
           },
           "bgcolor": "#E5ECF6",
           "radialaxis": {
            "gridcolor": "white",
            "linecolor": "white",
            "ticks": ""
           }
          },
          "scene": {
           "xaxis": {
            "backgroundcolor": "#E5ECF6",
            "gridcolor": "white",
            "gridwidth": 2,
            "linecolor": "white",
            "showbackground": true,
            "ticks": "",
            "zerolinecolor": "white"
           },
           "yaxis": {
            "backgroundcolor": "#E5ECF6",
            "gridcolor": "white",
            "gridwidth": 2,
            "linecolor": "white",
            "showbackground": true,
            "ticks": "",
            "zerolinecolor": "white"
           },
           "zaxis": {
            "backgroundcolor": "#E5ECF6",
            "gridcolor": "white",
            "gridwidth": 2,
            "linecolor": "white",
            "showbackground": true,
            "ticks": "",
            "zerolinecolor": "white"
           }
          },
          "shapedefaults": {
           "line": {
            "color": "#2a3f5f"
           }
          },
          "ternary": {
           "aaxis": {
            "gridcolor": "white",
            "linecolor": "white",
            "ticks": ""
           },
           "baxis": {
            "gridcolor": "white",
            "linecolor": "white",
            "ticks": ""
           },
           "bgcolor": "#E5ECF6",
           "caxis": {
            "gridcolor": "white",
            "linecolor": "white",
            "ticks": ""
           }
          },
          "title": {
           "x": 0.05
          },
          "xaxis": {
           "automargin": true,
           "gridcolor": "white",
           "linecolor": "white",
           "ticks": "",
           "title": {
            "standoff": 15
           },
           "zerolinecolor": "white",
           "zerolinewidth": 2
          },
          "yaxis": {
           "automargin": true,
           "gridcolor": "white",
           "linecolor": "white",
           "ticks": "",
           "title": {
            "standoff": 15
           },
           "zerolinecolor": "white",
           "zerolinewidth": 2
          }
         }
        },
        "xaxis": {
         "title": {
          "text": "Precipitation (m)"
         }
        },
        "yaxis": {
         "autorange": "reversed",
         "title": {
          "text": "Temperature (°C)"
         }
        }
       }
      }
     },
     "metadata": {},
     "output_type": "display_data"
    },
    {
     "name": "stdout",
     "output_type": "stream",
     "text": [
      "Average bias: 0.19623621829896729\n"
     ]
    }
   ],
   "source": [
    "\n",
    "\n",
    "fig, bias =calculate_surface(\"Trig\", \"bias\", \"2025-08-28\", \"Interactive\")\n",
    "#data, plot, date, specification\n",
    "fig.show()\n",
    "average_bias=np.mean(np.sqrt(bias**2))\n",
    "print(f'Average bias: {average_bias}')\n",
    "\n",
    "\n"
   ]
  },
  {
   "cell_type": "code",
   "execution_count": 59,
   "id": "62ea0575",
   "metadata": {},
   "outputs": [],
   "source": [
    "#optionally save as pdf \n",
    "fig.write_image(\"../results/images/Monte Carlo/bias_Trig_Interactive.pdf\")"
   ]
  },
  {
   "cell_type": "code",
   "execution_count": 15,
   "id": "9e62f0ea",
   "metadata": {},
   "outputs": [
    {
     "name": "stdout",
     "output_type": "stream",
     "text": [
      "[[ 1.2044461   1.1861778   1.1676731  ...  0.1575681   0.16068856\n",
      "   0.16384682]\n",
      " [-1.5353681  -1.5108845  -1.4862542  ...  0.6787489   0.67797023\n",
      "   0.6773794 ]]\n"
     ]
    }
   ],
   "source": [
    "surface=np.load(f\"/workspaces/Paper_1/results/MonteCarlo/linear/NN/2025-08-25/surfaces.np.npy\")\n",
    "    # surface=np.load(f\"/workspaces/Paper_1/outputs/2025-08-14/12-56-44/results/MonteCarlo/q_Leirvik/2025-08-14/_avg_surface.np.npy\")\n",
    "print(surface)"
   ]
  }
 ],
 "metadata": {
  "kernelspec": {
   "display_name": ".venv (3.12.8)",
   "language": "python",
   "name": "python3"
  },
  "language_info": {
   "codemirror_mode": {
    "name": "ipython",
    "version": 3
   },
   "file_extension": ".py",
   "mimetype": "text/x-python",
   "name": "python",
   "nbconvert_exporter": "python",
   "pygments_lexer": "ipython3",
   "version": "3.12.8"
  }
 },
 "nbformat": 4,
 "nbformat_minor": 5
}
